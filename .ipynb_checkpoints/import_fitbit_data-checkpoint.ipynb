{
 "cells": [
  {
   "cell_type": "code",
   "execution_count": 1,
   "metadata": {},
   "outputs": [],
   "source": [
    "#basic imports\n",
    "import pandas as pd\n",
    "import numpy as np\n",
    "\n",
    "#fitbit packages \n",
    "import fitbit\n",
    "from python_fitbit import gather_keys_oauth2 as Oauth2\n",
    "\n",
    "#datetime \n",
    "import datetime\n",
    "\n",
    "import time\n",
    "import json"
   ]
  },
  {
   "cell_type": "code",
   "execution_count": 2,
   "metadata": {},
   "outputs": [],
   "source": [
    "def authorize_fitbit_app():\n",
    "    '''\n",
    "    Authorize the script to access my Fitbit data\n",
    "    and return fitbit python object\n",
    "    '''\n",
    "    #app id\n",
    "    client_id = '2287X8'\n",
    "    #app password\n",
    "    client_secret = '2dfcb152b035ca0bdff3d99abc6af66e'\n",
    "    #connect to server for access and refresh tokens\n",
    "    server = Oauth2.OAuth2Server(client_id, client_secret)\n",
    "    server.browser_authorize()\n",
    "    ACCESS_TOKEN = str(server.fitbit.client.session.token['access_token'])\n",
    "    REFRESH_TOKEN = str(server.fitbit.client.session.token['refresh_token'])\n",
    "    #instantiate fitbit object\n",
    "    client = fitbit.Fitbit(client_id, client_secret, \n",
    "                           oauth2=True, access_token=ACCESS_TOKEN, \n",
    "                           refresh_token=REFRESH_TOKEN)\n",
    "    return client\n",
    "\n",
    "def get_weight(dates):\n",
    "    '''\n",
    "    Get historical weight data from Fitbit.\n",
    "    Note: I log my weight using the MyFitnessPal app, which Fitbit\n",
    "    downloads from. Because MyFitnessPal does not have a public API, I would\n",
    "    have to download my weight statistics manually. This script allows me to\n",
    "    programmatically access that data through Fitbit's connection to MyFitnessPal\n",
    "    I also use this instead of the time series fitbit method because time series\n",
    "    method imputes days where no weight was entered as the last known date. This way,\n",
    "    I can manually interpolate the interim days' weight myself.\n",
    "    '''\n",
    "    #create empty list\n",
    "    weight = []\n",
    "    #iterate through period index of frequency month\n",
    "    for date in dates:\n",
    "        #create dataframe of weight data starting from the first of the month\n",
    "        #to the end of the month\n",
    "        df = pd.DataFrame(client.get_bodyweight(base_date = date, period = '1m')['weight'])\n",
    "        #append to list\n",
    "        weight.append(df)\n",
    "    #concatenate into dataframe and export\n",
    "    weight = pd.concat(weight, ignore_index = True, sort = False)\n",
    "    weight.to_csv('weight.csv', index = False)\n",
    "    #return for console inspection\n",
    "    return weight\n",
    "\n",
    "\n",
    "\n",
    "def get_sleep(days):\n",
    "    sleep_list = []\n",
    "    for day in days:\n",
    "        json = client.get_sleep(day)\n",
    "        stats = pd.DataFrame(json['sleep'])\n",
    "        summary = pd.DataFrame(json['summary'], index = [0])\n",
    "        df = pd.concat([stats, summary], axis = 1)\n",
    "        sleep_list.append(df)\n",
    "        time.sleep(2)\n",
    "    sleep = pd.concat(sleep_list, ignore_index = True, sort = False)\n",
    "    sleep.to_csv('sleep.csv', index = False)\n",
    "    return sleep\n",
    "\n",
    "def get_heart_rate(days):\n",
    "    for counter, day in enumerate(days, 1):\n",
    "        day = str(day.date())\n",
    "        heart_rate = client.intraday_time_series('activities/heart', \n",
    "                                                base_date='2018-12-24', \n",
    "                                                detail_level='1sec')\n",
    "        with open(f'heart_rate_data/heart_rate_{day}.json', 'w') as outfile:\n",
    "            json.dump(heart_rate, outfile)\n",
    "        if counter % 100 == 0:\n",
    "            print('Sleeping')\n",
    "            #Sleeping for an hour\n",
    "            time.sleep(3600)\n"
   ]
  },
  {
   "cell_type": "code",
   "execution_count": 4,
   "metadata": {},
   "outputs": [
    {
     "name": "stderr",
     "output_type": "stream",
     "text": [
      "[27/Dec/2018:00:36:47] ENGINE Listening for SIGTERM.\n",
      "[27/Dec/2018:00:36:47] ENGINE Bus STARTING\n",
      "CherryPy Checker:\n",
      "The Application mounted at '' has an empty config.\n",
      "\n",
      "[27/Dec/2018:00:36:47] ENGINE Set handler for console events.\n",
      "[27/Dec/2018:00:36:47] ENGINE Started monitor thread 'Autoreloader'.\n",
      "[27/Dec/2018:00:36:47] ENGINE Serving on http://127.0.0.1:8080\n",
      "[27/Dec/2018:00:36:47] ENGINE Bus STARTED\n"
     ]
    },
    {
     "name": "stdout",
     "output_type": "stream",
     "text": [
      "127.0.0.1 - - [27/Dec/2018:00:36:48] \"GET /?code=25bacb0a898123149651327b26dc69737dec003a&state=dWZKifft80WH05cMJuosSj4N1JBstK HTTP/1.1\" 200 122 \"\" \"Mozilla/5.0 (Windows NT 10.0; Win64; x64) AppleWebKit/537.36 (KHTML, like Gecko) Chrome/71.0.3578.98 Safari/537.36\"\n"
     ]
    },
    {
     "name": "stderr",
     "output_type": "stream",
     "text": [
      "[27/Dec/2018:00:36:49] ENGINE Bus STOPPING\n",
      "[27/Dec/2018:00:36:58] ENGINE HTTP Server cherrypy._cpwsgi_server.CPWSGIServer(('127.0.0.1', 8080)) shut down\n",
      "[27/Dec/2018:00:36:58] ENGINE Stopped thread 'Autoreloader'.\n",
      "[27/Dec/2018:00:36:58] ENGINE Removed handler for console events.\n",
      "[27/Dec/2018:00:36:58] ENGINE Bus STOPPED\n",
      "[27/Dec/2018:00:36:58] ENGINE Bus EXITING\n",
      "[27/Dec/2018:00:36:58] ENGINE Waiting for child threads to terminate...\n",
      "[27/Dec/2018:00:36:58] ENGINE Bus EXITED\n",
      "[27/Dec/2018:00:36:58] ENGINE Waiting for thread Thread-19.\n"
     ]
    }
   ],
   "source": [
    "client = authorize_fitbit_app()"
   ]
  },
  {
   "cell_type": "code",
   "execution_count": 5,
   "metadata": {},
   "outputs": [],
   "source": [
    "#get the date I joined Fitbit\n",
    "date_joined_fitbit = client.user_profile_get()['user']['memberSince']\n",
    "today = datetime.datetime.now().date()\n",
    "dates = pd.date_range(start = date_joined_fitbit, end = today, freq = 'MS')\n",
    "days = pd.date_range(start = date_joined_fitbit, end = today, freq = 'D')"
   ]
  },
  {
   "cell_type": "code",
   "execution_count": 6,
   "metadata": {},
   "outputs": [],
   "source": [
    "lifts = pd.read_csv('lifts.csv', index_col = 'date')\n",
    "lifting_days = pd.to_datetime(lifts.index)\n",
    "intersection = lifting_days.intersection(days).unique()"
   ]
  }
 ],
 "metadata": {
  "kernelspec": {
   "display_name": "Python 3",
   "language": "python",
   "name": "python3"
  },
  "language_info": {
   "codemirror_mode": {
    "name": "ipython",
    "version": 3
   },
   "file_extension": ".py",
   "mimetype": "text/x-python",
   "name": "python",
   "nbconvert_exporter": "python",
   "pygments_lexer": "ipython3",
   "version": "3.7.0"
  }
 },
 "nbformat": 4,
 "nbformat_minor": 2
}

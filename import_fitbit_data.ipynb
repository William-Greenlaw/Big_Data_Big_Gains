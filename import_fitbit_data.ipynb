{
 "cells": [
  {
   "cell_type": "code",
   "execution_count": 1,
   "metadata": {},
   "outputs": [],
   "source": [
    "#basic imports\n",
    "import pandas as pd\n",
    "import numpy as np\n",
    "\n",
    "#fitbit packages \n",
    "import fitbit\n",
    "from python_fitbit import gather_keys_oauth2 as Oauth2\n",
    "\n",
    "#datetime \n",
    "import datetime\n",
    "\n",
    "import time\n",
    "import json"
   ]
  },
  {
   "cell_type": "code",
   "execution_count": 2,
   "metadata": {},
   "outputs": [],
   "source": [
    "def authorize_fitbit_app():\n",
    "    '''\n",
    "    Authorize the script to access my Fitbit data\n",
    "    and return fitbit python object\n",
    "    '''\n",
    "    #app id\n",
    "    client_id = '2287X8'\n",
    "    #app password\n",
    "    client_secret = '2dfcb152b035ca0bdff3d99abc6af66e'\n",
    "    #connect to server for access and refresh tokens\n",
    "    server = Oauth2.OAuth2Server(client_id, client_secret)\n",
    "    server.browser_authorize()\n",
    "    ACCESS_TOKEN = str(server.fitbit.client.session.token['access_token'])\n",
    "    REFRESH_TOKEN = str(server.fitbit.client.session.token['refresh_token'])\n",
    "    #instantiate fitbit object\n",
    "    client = fitbit.Fitbit(client_id, client_secret, \n",
    "                           oauth2=True, access_token=ACCESS_TOKEN, \n",
    "                           refresh_token=REFRESH_TOKEN)\n",
    "    return client\n",
    "\n",
    "def get_weight(dates):\n",
    "    '''\n",
    "    Get historical weight data from Fitbit.\n",
    "    Note: I log my weight using the MyFitnessPal app, which Fitbit\n",
    "    downloads from. Because MyFitnessPal does not have a public API, I would\n",
    "    have to download my weight statistics manually. This script allows me to\n",
    "    programmatically access that data through Fitbit's connection to MyFitnessPal\n",
    "    I also use this instead of the time series fitbit method because time series\n",
    "    method imputes days where no weight was entered as the last known date. This way,\n",
    "    I can manually interpolate the interim days' weight myself.\n",
    "    '''\n",
    "    #create empty list\n",
    "    weight = []\n",
    "    #iterate through period index of frequency month\n",
    "    for date in dates:\n",
    "        #create dataframe of weight data starting from the first of the month\n",
    "        #to the end of the month\n",
    "        df = pd.DataFrame(client.get_bodyweight(base_date = date, period = '1m')['weight'])\n",
    "        #append to list\n",
    "        weight.append(df)\n",
    "    #concatenate into dataframe and export\n",
    "    weight = pd.concat(weight, ignore_index = True, sort = False)\n",
    "    weight.to_csv('weight.csv', index = False)\n",
    "    #return for console inspection\n",
    "    return weight\n",
    "\n",
    "\n",
    "\n",
    "def get_sleep(days):\n",
    "    sleep_list = []\n",
    "    for day in days:\n",
    "        json = client.get_sleep(day)\n",
    "        stats = pd.DataFrame(json['sleep'])\n",
    "        summary = pd.DataFrame(json['summary'], index = [0])\n",
    "        df = pd.concat([stats, summary], axis = 1)\n",
    "        sleep_list.append(df)\n",
    "        time.sleep(2)\n",
    "    sleep = pd.concat(sleep_list, ignore_index = True, sort = False)\n",
    "    sleep.to_csv('sleep.csv', index = False)\n",
    "    return sleep\n",
    "\n",
    "def get_heart_rate_data(days):\n",
    "    '''\n",
    "    get heart rata data for every second during a day\n",
    "    when I worked out\n",
    "    '''\n",
    "    for counter, day in enumerate(days, 1):\n",
    "        day = str(day.date())\n",
    "        heart_rate = client.intraday_time_series('activities/heart', \n",
    "                                                base_date= day, \n",
    "                                                detail_level='1sec')\n",
    "        with open(f'heart_rate_data/heart_rate_{day}.json', 'w') as outfile:\n",
    "            json.dump(heart_rate, outfile)\n",
    "        if counter % 100 == 0:\n",
    "            print('Sleeping')\n",
    "            #Sleeping for an hour\n",
    "            time.sleep(3600)\n"
   ]
  },
  {
   "cell_type": "code",
   "execution_count": 3,
   "metadata": {},
   "outputs": [
    {
     "name": "stderr",
     "output_type": "stream",
     "text": [
      "[27/Dec/2018:00:55:38] ENGINE Listening for SIGTERM.\n",
      "[27/Dec/2018:00:55:38] ENGINE Bus STARTING\n",
      "[27/Dec/2018:00:55:38] ENGINE Set handler for console events.\n",
      "CherryPy Checker:\n",
      "The Application mounted at '' has an empty config.\n",
      "\n",
      "[27/Dec/2018:00:55:38] ENGINE Started monitor thread 'Autoreloader'.\n",
      "[27/Dec/2018:00:55:38] ENGINE Serving on http://127.0.0.1:8080\n",
      "[27/Dec/2018:00:55:38] ENGINE Bus STARTED\n"
     ]
    },
    {
     "name": "stdout",
     "output_type": "stream",
     "text": [
      "127.0.0.1 - - [27/Dec/2018:00:55:40] \"GET /?code=4a6a949f771ec797486f7b30a1863d2961d3fabd&state=YqpxJcfCQMng6POMDqVWCYEAAzuD83 HTTP/1.1\" 200 122 \"\" \"Mozilla/5.0 (Windows NT 10.0; Win64; x64) AppleWebKit/537.36 (KHTML, like Gecko) Chrome/71.0.3578.98 Safari/537.36\"\n"
     ]
    },
    {
     "name": "stderr",
     "output_type": "stream",
     "text": [
      "[27/Dec/2018:00:55:41] ENGINE Bus STOPPING\n",
      "[27/Dec/2018:00:55:50] ENGINE HTTP Server cherrypy._cpwsgi_server.CPWSGIServer(('127.0.0.1', 8080)) shut down\n",
      "[27/Dec/2018:00:55:50] ENGINE Removed handler for console events.\n",
      "[27/Dec/2018:00:55:50] ENGINE Stopped thread 'Autoreloader'.\n",
      "[27/Dec/2018:00:55:50] ENGINE Bus STOPPED\n",
      "[27/Dec/2018:00:55:50] ENGINE Bus EXITING\n",
      "[27/Dec/2018:00:55:50] ENGINE Waiting for child threads to terminate...\n",
      "[27/Dec/2018:00:55:50] ENGINE Bus EXITED\n",
      "[27/Dec/2018:00:55:50] ENGINE Waiting for thread Thread-19.\n"
     ]
    }
   ],
   "source": [
    "client = authorize_fitbit_app()"
   ]
  },
  {
   "cell_type": "code",
   "execution_count": 4,
   "metadata": {},
   "outputs": [],
   "source": [
    "#get the date I joined Fitbit\n",
    "date_joined_fitbit = client.user_profile_get()['user']['memberSince']\n",
    "today = datetime.datetime.now().date()\n",
    "dates = pd.date_range(start = date_joined_fitbit, end = today, freq = 'MS')\n",
    "days = pd.date_range(start = date_joined_fitbit, end = today, freq = 'D')"
   ]
  },
  {
   "cell_type": "code",
   "execution_count": 5,
   "metadata": {},
   "outputs": [],
   "source": [
    "lifts = pd.read_csv('lifts.csv', index_col = 'date')\n",
    "lifting_days = pd.to_datetime(lifts.index)\n",
    "intersection = lifting_days.intersection(days).unique()"
   ]
  },
  {
   "cell_type": "code",
   "execution_count": 6,
   "metadata": {},
   "outputs": [
    {
     "ename": "HTTPTooManyRequests",
     "evalue": "Too Many Requests",
     "output_type": "error",
     "traceback": [
      "\u001b[1;31m---------------------------------------------------------------------------\u001b[0m",
      "\u001b[1;31mHTTPTooManyRequests\u001b[0m                       Traceback (most recent call last)",
      "\u001b[1;32m<ipython-input-6-fba3330afe99>\u001b[0m in \u001b[0;36m<module>\u001b[1;34m()\u001b[0m\n\u001b[1;32m----> 1\u001b[1;33m \u001b[0mget_heart_rate_data\u001b[0m\u001b[1;33m(\u001b[0m\u001b[0mintersection\u001b[0m\u001b[1;33m)\u001b[0m\u001b[1;33m\u001b[0m\u001b[0m\n\u001b[0m",
      "\u001b[1;32m<ipython-input-2-68c0b15d3179>\u001b[0m in \u001b[0;36mget_heart_rate_data\u001b[1;34m(days)\u001b[0m\n\u001b[0;32m     69\u001b[0m         heart_rate = client.intraday_time_series('activities/heart', \n\u001b[0;32m     70\u001b[0m                                                 \u001b[0mbase_date\u001b[0m\u001b[1;33m=\u001b[0m \u001b[0mday\u001b[0m\u001b[1;33m,\u001b[0m\u001b[1;33m\u001b[0m\u001b[0m\n\u001b[1;32m---> 71\u001b[1;33m                                                 detail_level='1sec')\n\u001b[0m\u001b[0;32m     72\u001b[0m         \u001b[1;32mwith\u001b[0m \u001b[0mopen\u001b[0m\u001b[1;33m(\u001b[0m\u001b[1;34mf'heart_rate_data/heart_rate_{day}.json'\u001b[0m\u001b[1;33m,\u001b[0m \u001b[1;34m'w'\u001b[0m\u001b[1;33m)\u001b[0m \u001b[1;32mas\u001b[0m \u001b[0moutfile\u001b[0m\u001b[1;33m:\u001b[0m\u001b[1;33m\u001b[0m\u001b[0m\n\u001b[0;32m     73\u001b[0m             \u001b[0mjson\u001b[0m\u001b[1;33m.\u001b[0m\u001b[0mdump\u001b[0m\u001b[1;33m(\u001b[0m\u001b[0mheart_rate\u001b[0m\u001b[1;33m,\u001b[0m \u001b[0moutfile\u001b[0m\u001b[1;33m)\u001b[0m\u001b[1;33m\u001b[0m\u001b[0m\n",
      "\u001b[1;32m~\\Anaconda3\\lib\\site-packages\\fitbit\\api.py\u001b[0m in \u001b[0;36mintraday_time_series\u001b[1;34m(self, resource, base_date, detail_level, start_time, end_time)\u001b[0m\n\u001b[0;32m    557\u001b[0m         \u001b[0murl\u001b[0m \u001b[1;33m=\u001b[0m \u001b[0murl\u001b[0m \u001b[1;33m+\u001b[0m \u001b[1;34m'.json'\u001b[0m\u001b[1;33m\u001b[0m\u001b[0m\n\u001b[0;32m    558\u001b[0m \u001b[1;33m\u001b[0m\u001b[0m\n\u001b[1;32m--> 559\u001b[1;33m         \u001b[1;32mreturn\u001b[0m \u001b[0mself\u001b[0m\u001b[1;33m.\u001b[0m\u001b[0mmake_request\u001b[0m\u001b[1;33m(\u001b[0m\u001b[0murl\u001b[0m\u001b[1;33m)\u001b[0m\u001b[1;33m\u001b[0m\u001b[0m\n\u001b[0m\u001b[0;32m    560\u001b[0m \u001b[1;33m\u001b[0m\u001b[0m\n\u001b[0;32m    561\u001b[0m     \u001b[1;32mdef\u001b[0m \u001b[0mactivity_stats\u001b[0m\u001b[1;33m(\u001b[0m\u001b[0mself\u001b[0m\u001b[1;33m,\u001b[0m \u001b[0muser_id\u001b[0m\u001b[1;33m=\u001b[0m\u001b[1;32mNone\u001b[0m\u001b[1;33m,\u001b[0m \u001b[0mqualifier\u001b[0m\u001b[1;33m=\u001b[0m\u001b[1;34m''\u001b[0m\u001b[1;33m)\u001b[0m\u001b[1;33m:\u001b[0m\u001b[1;33m\u001b[0m\u001b[0m\n",
      "\u001b[1;32m~\\Anaconda3\\lib\\site-packages\\fitbit\\api.py\u001b[0m in \u001b[0;36mmake_request\u001b[1;34m(self, *args, **kwargs)\u001b[0m\n\u001b[0;32m    221\u001b[0m \u001b[1;33m\u001b[0m\u001b[0m\n\u001b[0;32m    222\u001b[0m         \u001b[0mmethod\u001b[0m \u001b[1;33m=\u001b[0m \u001b[0mkwargs\u001b[0m\u001b[1;33m.\u001b[0m\u001b[0mget\u001b[0m\u001b[1;33m(\u001b[0m\u001b[1;34m'method'\u001b[0m\u001b[1;33m,\u001b[0m \u001b[1;34m'POST'\u001b[0m \u001b[1;32mif\u001b[0m \u001b[1;34m'data'\u001b[0m \u001b[1;32min\u001b[0m \u001b[0mkwargs\u001b[0m \u001b[1;32melse\u001b[0m \u001b[1;34m'GET'\u001b[0m\u001b[1;33m)\u001b[0m\u001b[1;33m\u001b[0m\u001b[0m\n\u001b[1;32m--> 223\u001b[1;33m         \u001b[0mresponse\u001b[0m \u001b[1;33m=\u001b[0m \u001b[0mself\u001b[0m\u001b[1;33m.\u001b[0m\u001b[0mclient\u001b[0m\u001b[1;33m.\u001b[0m\u001b[0mmake_request\u001b[0m\u001b[1;33m(\u001b[0m\u001b[1;33m*\u001b[0m\u001b[0margs\u001b[0m\u001b[1;33m,\u001b[0m \u001b[1;33m**\u001b[0m\u001b[0mkwargs\u001b[0m\u001b[1;33m)\u001b[0m\u001b[1;33m\u001b[0m\u001b[0m\n\u001b[0m\u001b[0;32m    224\u001b[0m \u001b[1;33m\u001b[0m\u001b[0m\n\u001b[0;32m    225\u001b[0m         \u001b[1;32mif\u001b[0m \u001b[0mresponse\u001b[0m\u001b[1;33m.\u001b[0m\u001b[0mstatus_code\u001b[0m \u001b[1;33m==\u001b[0m \u001b[1;36m202\u001b[0m\u001b[1;33m:\u001b[0m\u001b[1;33m\u001b[0m\u001b[0m\n",
      "\u001b[1;32m~\\Anaconda3\\lib\\site-packages\\fitbit\\api.py\u001b[0m in \u001b[0;36mmake_request\u001b[1;34m(self, url, data, method, **kwargs)\u001b[0m\n\u001b[0;32m     97\u001b[0m         )\n\u001b[0;32m     98\u001b[0m \u001b[1;33m\u001b[0m\u001b[0m\n\u001b[1;32m---> 99\u001b[1;33m         \u001b[0mexceptions\u001b[0m\u001b[1;33m.\u001b[0m\u001b[0mdetect_and_raise_error\u001b[0m\u001b[1;33m(\u001b[0m\u001b[0mresponse\u001b[0m\u001b[1;33m)\u001b[0m\u001b[1;33m\u001b[0m\u001b[0m\n\u001b[0m\u001b[0;32m    100\u001b[0m \u001b[1;33m\u001b[0m\u001b[0m\n\u001b[0;32m    101\u001b[0m         \u001b[1;32mreturn\u001b[0m \u001b[0mresponse\u001b[0m\u001b[1;33m\u001b[0m\u001b[0m\n",
      "\u001b[1;32m~\\Anaconda3\\lib\\site-packages\\fitbit\\exceptions.py\u001b[0m in \u001b[0;36mdetect_and_raise_error\u001b[1;34m(response)\u001b[0m\n\u001b[0;32m     90\u001b[0m         \u001b[0mexc\u001b[0m \u001b[1;33m=\u001b[0m \u001b[0mHTTPTooManyRequests\u001b[0m\u001b[1;33m(\u001b[0m\u001b[0mresponse\u001b[0m\u001b[1;33m)\u001b[0m\u001b[1;33m\u001b[0m\u001b[0m\n\u001b[0;32m     91\u001b[0m         \u001b[0mexc\u001b[0m\u001b[1;33m.\u001b[0m\u001b[0mretry_after_secs\u001b[0m \u001b[1;33m=\u001b[0m \u001b[0mint\u001b[0m\u001b[1;33m(\u001b[0m\u001b[0mresponse\u001b[0m\u001b[1;33m.\u001b[0m\u001b[0mheaders\u001b[0m\u001b[1;33m[\u001b[0m\u001b[1;34m'Retry-After'\u001b[0m\u001b[1;33m]\u001b[0m\u001b[1;33m)\u001b[0m\u001b[1;33m\u001b[0m\u001b[0m\n\u001b[1;32m---> 92\u001b[1;33m         \u001b[1;32mraise\u001b[0m \u001b[0mexc\u001b[0m\u001b[1;33m\u001b[0m\u001b[0m\n\u001b[0m\u001b[0;32m     93\u001b[0m     \u001b[1;32melif\u001b[0m \u001b[0mresponse\u001b[0m\u001b[1;33m.\u001b[0m\u001b[0mstatus_code\u001b[0m \u001b[1;33m>=\u001b[0m \u001b[1;36m500\u001b[0m\u001b[1;33m:\u001b[0m\u001b[1;33m\u001b[0m\u001b[0m\n\u001b[0;32m     94\u001b[0m         \u001b[1;32mraise\u001b[0m \u001b[0mHTTPServerError\u001b[0m\u001b[1;33m(\u001b[0m\u001b[0mresponse\u001b[0m\u001b[1;33m)\u001b[0m\u001b[1;33m\u001b[0m\u001b[0m\n",
      "\u001b[1;31mHTTPTooManyRequests\u001b[0m: Too Many Requests"
     ]
    }
   ],
   "source": [
    "get_heart_rate_data(intersection)"
   ]
  },
  {
   "cell_type": "code",
   "execution_count": null,
   "metadata": {},
   "outputs": [],
   "source": []
  }
 ],
 "metadata": {
  "kernelspec": {
   "display_name": "Python 3",
   "language": "python",
   "name": "python3"
  },
  "language_info": {
   "codemirror_mode": {
    "name": "ipython",
    "version": 3
   },
   "file_extension": ".py",
   "mimetype": "text/x-python",
   "name": "python",
   "nbconvert_exporter": "python",
   "pygments_lexer": "ipython3",
   "version": "3.7.0"
  }
 },
 "nbformat": 4,
 "nbformat_minor": 2
}

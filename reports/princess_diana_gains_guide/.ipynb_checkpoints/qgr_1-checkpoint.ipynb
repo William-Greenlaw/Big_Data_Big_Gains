{
 "cells": [
  {
   "cell_type": "markdown",
   "metadata": {},
   "source": [
    "# Quarterly Gains Report #1\n",
    "- Princess Diana's Gains Guide"
   ]
  },
  {
   "cell_type": "code",
   "execution_count": 17,
   "metadata": {},
   "outputs": [
    {
     "data": {
      "text/html": [
       "<script type=\"text/javascript\">window.PlotlyConfig = {MathJaxConfig: 'local'};</script><script type=\"text/javascript\">if (window.MathJax) {MathJax.Hub.Config({SVG: {font: \"STIX-Web\"}});}</script><script>requirejs.config({paths: { 'plotly': ['https://cdn.plot.ly/plotly-latest.min']},});if(!window._Plotly) {require(['plotly'],function(plotly) {window._Plotly=plotly;});}</script>"
      ],
      "text/vnd.plotly.v1+html": [
       "<script type=\"text/javascript\">window.PlotlyConfig = {MathJaxConfig: 'local'};</script><script type=\"text/javascript\">if (window.MathJax) {MathJax.Hub.Config({SVG: {font: \"STIX-Web\"}});}</script><script>requirejs.config({paths: { 'plotly': ['https://cdn.plot.ly/plotly-latest.min']},});if(!window._Plotly) {require(['plotly'],function(plotly) {window._Plotly=plotly;});}</script>"
      ]
     },
     "metadata": {},
     "output_type": "display_data"
    }
   ],
   "source": [
    "#basic imports\n",
    "import numpy as np\n",
    "import pandas as pd\n",
    "\n",
    "#visualization libraries\n",
    "import cufflinks as cf\n",
    "cf.go_offline()\n",
    "\n",
    "import plotly.graph_objs as go\n",
    "import plotly.tools as tls\n",
    "import plotly.io as pio\n",
    "from plotly.offline import iplot\n",
    "\n",
    "import plotly.io as pio\n",
    "\n",
    "from sqlalchemy import create_engine\n",
    "engine = create_engine('sqlite:///../../gains.db')"
   ]
  },
  {
   "cell_type": "code",
   "execution_count": 2,
   "metadata": {},
   "outputs": [],
   "source": [
    "def apply_golden_range(f: go.FigureWidget):\n",
    "    '''\n",
    "    If a line chart's axis doesn't start at 0, make 33% of the\n",
    "    plot's y-axis space blank space. If the new minimum y-axis value\n",
    "    becomes negative to fit the golden ratio and the old minimum y-axis\n",
    "    value wasn't, then set y-axis minimum to 0. \n",
    "    \n",
    "    This logic supports a design\n",
    "    decision where if the chart's minimum is great than 0, the function\n",
    "    assumes it does not make sense to use y values less than 0. For example, \n",
    "    in the case of lifting weights, one can lift little enough volume to \n",
    "    make setting a \"golden range\" require negative y-axis labelling, but\n",
    "    entertaining negative numbers doesn't make sense since one cannot lift\n",
    "    negative weight. In that case, setting the y-axis to 0 makes the best \n",
    "    use of space to ameliorate concerns with truncating y-axis ranges.\n",
    "    \n",
    "    Math:\n",
    "    \n",
    "    For a \"golden range\", the distance between the minimum data point \n",
    "    and the minimum y-axis value is one third the height of the entire\n",
    "    plotting area, which is distance between the maximum y-axis value \n",
    "    and the minimum y-axis value:\n",
    "    \n",
    "    (min_data - min_y_range) = (max_y_range - min_y_range) / 3\n",
    "    \n",
    "    *transform equation*\n",
    "    \n",
    "    min_y_range =  (3 * min_data - max_y_range) / 2\n",
    "    \n",
    "    See discussion of fair y-axis ranges here: https://www.chezvoila.com/blog/yaxis\n",
    "    \n",
    "    This function relies on plotly automatically choosing the maximum y-axis value\n",
    "    of a figure and simply changes the minimum y-axis value to make it conform\n",
    "    to the golden ratio.\n",
    "    '''\n",
    "    \n",
    "    if f.layout.yaxis.range[0] != 0:\n",
    "        # get minimum y-axis data point of all the traces in the figure\n",
    "        min_data = min([min(trace.y) for trace in f.data])\n",
    "        \n",
    "        # get current minimum and maxiumum y-axis range\n",
    "        max_y_range = f.layout.yaxis.range[1]\n",
    "        original_y_min = f.layout.yaxis.range[0]\n",
    "        \n",
    "        # get minimum y-axis range value to conform to golden ratio\n",
    "        min_y_range = (3 * min_data - max_y_range) / 2\n",
    "        \n",
    "        # If the new minimum y-axis value is negative and the old minimum y-axis\n",
    "        # value wasn't, then set y-axis minimum to 0\n",
    "        if min_y_range < 0 and original_y_min > 0:\n",
    "            min_y_range = 0\n",
    "        \n",
    "        # set new y-axis range\n",
    "        f.layout.yaxis.range = [min_y_range, max_y_range]\n",
    "    \n",
    "    return f\n",
    "\n",
    "def gains(df, color, category = 'abs'):\n",
    "    '''\n",
    "    Plot workout volume within a routine over time.\n",
    "    '''\n",
    "    # make the traces the column names in reverse, placing the total volume column in front for the largest subplot\n",
    "    traces = df.columns\n",
    "    \n",
    "    # create subplots, one plot for each exercise in the routine\n",
    "    if category == 'abs':\n",
    "        subplots = tls.make_subplots(rows=3, cols=4, \n",
    "                              specs=[[{'colspan': 2, 'rowspan': 3}, None, {}, {}], # reserve one large subplot for the total volume field\n",
    "                                     [None, None, {}, {}], # reserve remaining subplots for other exercises\n",
    "                                     [None, None, {}, {}],\n",
    "                                    ],\n",
    "                                 subplot_titles = traces,\n",
    "                              print_grid=True)\n",
    "        # set row and col position list for plotting\n",
    "        rows = [1,1,1,2,2,3,3]\n",
    "        cols = [1,3,4,3,4,3,4,]\n",
    "        x_axes = range(2,6)\n",
    "        \n",
    "    else:\n",
    "        subplots = tls.make_subplots(rows=5, cols=4, \n",
    "                              specs=[[{'colspan': 2, 'rowspan': 5}, None, {}, {}], # reserve one large subplot for the total volume field\n",
    "                                     [None, None, {}, {}], # reserve remaining subplots for other exercises\n",
    "                                     [None, None, {}, {}],\n",
    "                                     [None, None, {}, {}],\n",
    "                                     [None, None, {}, {}]\n",
    "                                    ],\n",
    "                                 subplot_titles = traces,\n",
    "                              print_grid=True)\n",
    "        \n",
    "        # set row and col position list for plotting\n",
    "        rows = [1,1,1,2,2,3,3,4,4,5,5]\n",
    "        cols = [1,3,4,3,4,3,4,3,4,3,4]\n",
    "        x_axes = range(2,10)\n",
    "    \n",
    "    # intanstiate plot using the subplots\n",
    "    f = go.FigureWidget(subplots)\n",
    "    \n",
    "    # create rolling 5-workout mean for each exercise\n",
    "    means = df.rolling(5).mean()\n",
    "    \n",
    "    # plot each exercise in its own subplot\n",
    "    for row, col, trace in zip(rows, cols, traces):\n",
    "        \n",
    "        # print values for diagnostic purposes\n",
    "        print(trace)\n",
    "        print(row, col)\n",
    "        \n",
    "        # plot exercise volumes then rolling means\n",
    "        for frame in [df, means]:\n",
    "\n",
    "            # exercise volumes\n",
    "            f.add_scatter(x = frame.index, y = frame[trace], \n",
    "                          mode = 'lines',\n",
    "                          opacity = 1 if frame is means else .45,\n",
    "                          marker = {'color':f'{color}'} if frame is means else {'color': 'grey'},\n",
    "                          line = {'shape': 'spline', 'width': 3.5} if frame is means else {}, # make the rolling means smooth but the normal value normal\n",
    "                          showlegend = False, \n",
    "                          name = trace if frame is df else 'Mean',\n",
    "                          row = row, col= col)\n",
    "    \n",
    "    # hide x-axis values for the upper-most plots, leaving on the x-axis of the bottom plots for better visibility\n",
    "    for axis in x_axes:\n",
    "        f.layout[f'xaxis{axis}'].visible = False\n",
    "        #f.layout[f'yaxis{axis}'].range = df.min().min(), df.max().max()\n",
    "    \n",
    "    # add my signature logo\n",
    "    f.layout.images = [dict(\n",
    "        source=\"https://raw.githubusercontent.com/WilliamGreenlaw/Logos/master/signature_min.png\",\n",
    "        xref=\"paper\", yref=\"paper\",\n",
    "        x= .1, y= 1,\n",
    "        sizex=0.2, sizey=0.2,\n",
    "        xanchor=\"right\", yanchor=\"bottom\"\n",
    "      )]\n",
    "    \n",
    "    # set axis labels\n",
    "    f.layout.yaxis.title = 'Volume (lbs)'\n",
    "    \n",
    "    # set colors\n",
    "    f.layout.plot_bgcolor = '#E5E5E5'\n",
    "    f.layout.paper_bgcolor = '#E5E5E5'    \n",
    "    \n",
    "    return f\n",
    "\n",
    "def sort_volume(df):\n",
    "    return df.sort_values(by = df.index[-1], axis = 1, ascending = False)"
   ]
  },
  {
   "cell_type": "code",
   "execution_count": 44,
   "metadata": {},
   "outputs": [],
   "source": [
    "volume = pd.read_sql('volume', con = engine, parse_dates = 'date')"
   ]
  },
  {
   "cell_type": "code",
   "execution_count": 4,
   "metadata": {},
   "outputs": [],
   "source": [
    "workouts  = pd.read_csv('../../fitnotes/workouts.csv')"
   ]
  },
  {
   "cell_type": "code",
   "execution_count": 46,
   "metadata": {},
   "outputs": [],
   "source": [
    "categories = [['Chest', 'Triceps'], ['Back'], ['Abs']]\n",
    "chest, back, ab = [volume\n",
    "                   .loc[(volume.routine == 'Princess Diana Gains Guide') & \n",
    "                                 volume.category.isin(category)]\n",
    "                   .pivot(index = 'date', columns = 'exercise', values = 'volume')\n",
    "                   .fillna(0)\n",
    "                   .assign(total_volume = lambda df: df.sum(axis = 1))\n",
    "                   .rename(columns = {'total_volume': 'Total Volume'})\n",
    "                   .pipe(sort_volume)\n",
    "                   for category in categories]"
   ]
  },
  {
   "cell_type": "code",
   "execution_count": 6,
   "metadata": {},
   "outputs": [],
   "source": [
    "figs = {}"
   ]
  },
  {
   "cell_type": "code",
   "execution_count": 47,
   "metadata": {},
   "outputs": [
    {
     "name": "stdout",
     "output_type": "stream",
     "text": [
      "This is the format of your plot grid:\n",
      "[ (1,1) x1,y1           -      ]  [ (1,3) x2,y2 ]  [ (1,4) x3,y3 ]\n",
      "       |             (empty)      [ (2,3) x4,y4 ]  [ (2,4) x5,y5 ]\n",
      "       |                |         [ (3,3) x6,y6 ]  [ (3,4) x7,y7 ]\n",
      "\n",
      "Total Volume\n",
      "1 1\n",
      "Decline Oblique Chops\n",
      "1 3\n",
      "Mounted Oblique Leans\n",
      "1 4\n",
      "Ab-Wheel Rollout Side-Side-Front\n",
      "2 3\n",
      "Med Ball Spread Eagles\n",
      "2 4\n",
      "Hanging Front Snap Kick Raise\n",
      "3 3\n",
      "Hanging Knee Raise\n",
      "3 4\n"
     ]
    }
   ],
   "source": [
    "figs['abs'] = gains(ab, color = '#037F8C', category = 'abs')\n",
    "figs['abs'].layout.title = '<b>Ab Volume Rises Because of Weighted Exercises</b><br><i>Ab Volume over Time, Five-Workout Average in Black'"
   ]
  },
  {
   "cell_type": "code",
   "execution_count": 48,
   "metadata": {},
   "outputs": [
    {
     "name": "stdout",
     "output_type": "stream",
     "text": [
      "This is the format of your plot grid:\n",
      "[ (1,1) x1,y1             -        ]  [ (1,3) x2,y2 ]    [ (1,4) x3,y3 ]  \n",
      "       |               (empty)        [ (2,3) x4,y4 ]    [ (2,4) x5,y5 ]  \n",
      "       |               (empty)        [ (3,3) x6,y6 ]    [ (3,4) x7,y7 ]  \n",
      "       |               (empty)        [ (4,3) x8,y8 ]    [ (4,4) x9,y9 ]  \n",
      "       |                  |           [ (5,3) x10,y10 ]  [ (5,4) x11,y11 ]\n",
      "\n",
      "Total Volume\n",
      "1 1\n",
      "Decline Barbell Bench Press\n",
      "1 3\n",
      "Close Grip Dip\n",
      "1 4\n",
      "Decline Cable Fly\n",
      "2 3\n",
      "Decline Dumbbell Fly\n",
      "2 4\n",
      "Lower Chest Bracket Pushups\n",
      "3 3\n",
      "Decline Dumbbell Bench Press\n",
      "3 4\n",
      "Flat Barbell Bench Press\n",
      "4 3\n",
      "Incline Barbell Bench Press\n",
      "4 4\n",
      "Incline Pushup\n",
      "5 3\n",
      "Single Arm Hammer Strength Press\n",
      "5 4\n"
     ]
    }
   ],
   "source": [
    "figs['chest'] = gains(chest, color = '#A6431F', category = 'chest')\n",
    "figs['chest'].layout.title = '<b>Chest Volume Has Declined Since February 1st, 2018</b><br><i>Chest Volume over Time, Five-Workout Average in Black'"
   ]
  },
  {
   "cell_type": "code",
   "execution_count": 50,
   "metadata": {},
   "outputs": [
    {
     "name": "stdout",
     "output_type": "stream",
     "text": [
      "This is the format of your plot grid:\n",
      "[ (1,1) x1,y1             -        ]  [ (1,3) x2,y2 ]    [ (1,4) x3,y3 ]  \n",
      "       |               (empty)        [ (2,3) x4,y4 ]    [ (2,4) x5,y5 ]  \n",
      "       |               (empty)        [ (3,3) x6,y6 ]    [ (3,4) x7,y7 ]  \n",
      "       |               (empty)        [ (4,3) x8,y8 ]    [ (4,4) x9,y9 ]  \n",
      "       |                  |           [ (5,3) x10,y10 ]  [ (5,4) x11,y11 ]\n",
      "\n",
      "Total Volume\n",
      "1 1\n",
      "Pull Up\n",
      "1 3\n",
      "Wide Lat Pulldown Supinated\n",
      "1 4\n",
      "Bent Over EZ Bar Cable Rows\n",
      "2 3\n",
      "Barbell Row\n",
      "2 4\n",
      "Single Arm Cable Pulldown\n",
      "3 3\n",
      "Bent Over Single Arm Cable Rows with Twist\n",
      "3 4\n",
      "Bent Over Rope Pulldowns\n",
      "4 3\n",
      "Reverse Cable Fly\n",
      "4 4\n",
      "Seated Back Extension\n",
      "5 3\n",
      "Inverted Rows\n",
      "5 4\n"
     ]
    }
   ],
   "source": [
    "figs['back'] = gains(back, color = '#5B4973', category = 'back')\n",
    "figs['back'].layout.title = '<b>Back Volume Has Stagnated on Average over Time</b><br><i>Back Volume over Time, Five-Workout Average in Black'"
   ]
  },
  {
   "cell_type": "code",
   "execution_count": 52,
   "metadata": {},
   "outputs": [
    {
     "data": {
      "application/vnd.jupyter.widget-view+json": {
       "model_id": "bfd544ab84944742bb1e82cbd69cae06",
       "version_major": 2,
       "version_minor": 0
      },
      "text/plain": [
       "FigureWidget({\n",
       "    'data': [{'marker': {'color': 'grey'},\n",
       "              'mode': 'lines',\n",
       "              'name':…"
      ]
     },
     "metadata": {},
     "output_type": "display_data"
    }
   ],
   "source": [
    "figs['chest']"
   ]
  },
  {
   "cell_type": "code",
   "execution_count": 53,
   "metadata": {},
   "outputs": [],
   "source": [
    "figs['chest'].layout.xaxis.showgrid = False\n",
    "figs['chest'] = apply_golden_range(figs['chest'])"
   ]
  },
  {
   "cell_type": "code",
   "execution_count": 54,
   "metadata": {},
   "outputs": [
    {
     "data": {
      "application/vnd.jupyter.widget-view+json": {
       "model_id": "f6c08c4270284505886a8968c55b3be1",
       "version_major": 2,
       "version_minor": 0
      },
      "text/plain": [
       "FigureWidget({\n",
       "    'data': [{'marker': {'color': 'grey'},\n",
       "              'mode': 'lines',\n",
       "              'name':…"
      ]
     },
     "metadata": {},
     "output_type": "display_data"
    }
   ],
   "source": [
    "figs['back']"
   ]
  },
  {
   "cell_type": "code",
   "execution_count": 55,
   "metadata": {},
   "outputs": [],
   "source": [
    "figs['back'].layout.xaxis.showgrid = False\n",
    "figs['back'] = apply_golden_range(figs['back'])"
   ]
  },
  {
   "cell_type": "code",
   "execution_count": 56,
   "metadata": {},
   "outputs": [
    {
     "data": {
      "application/vnd.jupyter.widget-view+json": {
       "model_id": "49366956d5494cabba7d6db7c9d2929b",
       "version_major": 2,
       "version_minor": 0
      },
      "text/plain": [
       "FigureWidget({\n",
       "    'data': [{'marker': {'color': 'grey'},\n",
       "              'mode': 'lines',\n",
       "              'name':…"
      ]
     },
     "metadata": {},
     "output_type": "display_data"
    }
   ],
   "source": [
    "figs['abs']"
   ]
  },
  {
   "cell_type": "code",
   "execution_count": 57,
   "metadata": {},
   "outputs": [],
   "source": [
    "figs['abs'].layout.xaxis.showgrid = False"
   ]
  },
  {
   "cell_type": "code",
   "execution_count": 58,
   "metadata": {},
   "outputs": [],
   "source": [
    "pio.write_image(figs['back'], 'back.svg', width = 1500, height = 500)\n",
    "pio.write_image(figs['chest'], 'chest.svg', width = 1500, height = 500)\n",
    "pio.write_image(figs['abs'], 'abs.svg', width = 1500, height = 500)"
   ]
  },
  {
   "cell_type": "code",
   "execution_count": 59,
   "metadata": {},
   "outputs": [],
   "source": [
    "pio.write_image(figs['back'], 'back.png', width = 1500, height = 600)\n",
    "pio.write_image(figs['chest'], 'chest.png', width = 1500, height = 600)\n",
    "pio.write_image(figs['abs'], 'abs.png', width = 1500, height = 600)"
   ]
  },
  {
   "cell_type": "code",
   "execution_count": 20,
   "metadata": {},
   "outputs": [],
   "source": [
    "diana = workouts.loc[workouts.routine == 'Princess Diana Gains Guide']"
   ]
  },
  {
   "cell_type": "code",
   "execution_count": 21,
   "metadata": {},
   "outputs": [],
   "source": [
    "since = diana.pivot(index = 'date', columns = 'category', values = 'days_since_category')"
   ]
  },
  {
   "cell_type": "code",
   "execution_count": 27,
   "metadata": {},
   "outputs": [
    {
     "data": {
      "application/vnd.plotly.v1+json": {
       "config": {
        "linkText": "Export to plot.ly",
        "plotlyServerURL": "https://plot.ly",
        "showLink": true
       },
       "data": [
        {
         "fill": "tozeroy",
         "fillcolor": "rgba(255, 153, 51, 0.3)",
         "line": {
          "color": "rgba(255, 153, 51, 1.0)",
          "dash": "solid",
          "shape": "linear",
          "width": 1.3
         },
         "mode": "lines",
         "name": "Abs",
         "text": "",
         "type": "scatter",
         "uid": "e2d565f9-0225-4769-84ab-daef061177b2",
         "x": [
          "2018-08-04",
          "2018-08-07",
          "2018-08-23",
          "2018-08-28",
          "2018-09-06",
          "2018-09-14",
          "2018-09-18",
          "2018-09-21",
          "2018-10-03",
          "2018-10-09",
          "2018-10-24",
          "2018-10-27",
          "2018-11-05",
          "2018-11-24",
          "2018-12-01",
          "2018-12-08",
          "2018-12-15",
          "2018-12-29",
          "2019-01-04",
          "2019-01-15",
          "2019-01-28",
          "2019-02-02",
          "2019-02-08",
          "2019-02-14",
          "2019-02-21",
          "2019-03-04",
          "2019-03-13",
          "2019-03-29",
          "2019-04-12",
          "2019-04-19",
          "2019-05-02",
          "2019-05-08",
          "2019-05-14",
          "2019-05-25"
         ],
         "y": [
          "",
          "",
          "",
          "",
          19.8,
          8.2,
          8.4,
          5.8,
          7.2,
          6.6,
          8,
          7.8,
          9,
          10.4,
          10.6,
          9,
          9.8,
          10.8,
          8.2,
          9,
          10.2,
          9.8,
          8.2,
          8.2,
          7.4,
          7,
          7.8,
          9.8,
          11.4,
          11.4,
          11.8,
          11.2,
          9.2,
          8.6
         ]
        }
       ],
       "layout": {
        "autosize": true,
        "legend": {
         "bgcolor": "#F5F6F9",
         "font": {
          "color": "#4D5663"
         }
        },
        "paper_bgcolor": "#F5F6F9",
        "plot_bgcolor": "#F5F6F9",
        "title": {
         "font": {
          "color": "#4D5663"
         }
        },
        "xaxis": {
         "autorange": true,
         "gridcolor": "#E1E5ED",
         "range": [
          "2018-08-04",
          "2019-05-25"
         ],
         "showgrid": true,
         "tickfont": {
          "color": "#4D5663"
         },
         "title": {
          "font": {
           "color": "#4D5663"
          },
          "text": ""
         },
         "type": "date",
         "zerolinecolor": "#E1E5ED"
        },
        "yaxis": {
         "autorange": true,
         "gridcolor": "#E1E5ED",
         "range": [
          0,
          20.842105263157894
         ],
         "showgrid": true,
         "tickfont": {
          "color": "#4D5663"
         },
         "title": {
          "font": {
           "color": "#4D5663"
          },
          "text": ""
         },
         "type": "linear",
         "zerolinecolor": "#E1E5ED"
        }
       }
      },
      "image/png": "[encoded data removed]",
      "text/html": [
       "<div id=\"83091d1b-8ffe-46f8-a2a3-a8257290bce0\" style=\"height: 525px; width: 100%;\" class=\"plotly-graph-div\"></div><script type=\"text/javascript\">require([\"plotly\"], function(Plotly) { window.PLOTLYENV=window.PLOTLYENV || {};window.PLOTLYENV.BASE_URL=\"https://plot.ly\";\n",
       "if (document.getElementById(\"83091d1b-8ffe-46f8-a2a3-a8257290bce0\")) {\n",
       "    Plotly.newPlot(\"83091d1b-8ffe-46f8-a2a3-a8257290bce0\", [{\"fill\": \"tozeroy\", \"fillcolor\": \"rgba(255, 153, 51, 0.3)\", \"line\": {\"color\": \"rgba(255, 153, 51, 1.0)\", \"dash\": \"solid\", \"shape\": \"linear\", \"width\": 1.3}, \"mode\": \"lines\", \"name\": \"Abs\", \"text\": \"\", \"x\": [\"2018-08-04\", \"2018-08-07\", \"2018-08-23\", \"2018-08-28\", \"2018-09-06\", \"2018-09-14\", \"2018-09-18\", \"2018-09-21\", \"2018-10-03\", \"2018-10-09\", \"2018-10-24\", \"2018-10-27\", \"2018-11-05\", \"2018-11-24\", \"2018-12-01\", \"2018-12-08\", \"2018-12-15\", \"2018-12-29\", \"2019-01-04\", \"2019-01-15\", \"2019-01-28\", \"2019-02-02\", \"2019-02-08\", \"2019-02-14\", \"2019-02-21\", \"2019-03-04\", \"2019-03-13\", \"2019-03-29\", \"2019-04-12\", \"2019-04-19\", \"2019-05-02\", \"2019-05-08\", \"2019-05-14\", \"2019-05-25\"], \"y\": [\"\", \"\", \"\", \"\", 19.8, 8.2, 8.4, 5.8, 7.2, 6.6, 8.0, 7.8, 9.0, 10.4, 10.6, 9.0, 9.8, 10.8, 8.2, 9.0, 10.2, 9.8, 8.2, 8.2, 7.4, 7.0, 7.8, 9.8, 11.4, 11.4, 11.8, 11.2, 9.2, 8.6], \"type\": \"scatter\", \"uid\": \"744e0d5a-a9da-40da-bec7-6634f1729575\"}], {\"legend\": {\"bgcolor\": \"#F5F6F9\", \"font\": {\"color\": \"#4D5663\"}}, \"paper_bgcolor\": \"#F5F6F9\", \"plot_bgcolor\": \"#F5F6F9\", \"title\": {\"font\": {\"color\": \"#4D5663\"}}, \"xaxis\": {\"gridcolor\": \"#E1E5ED\", \"showgrid\": true, \"tickfont\": {\"color\": \"#4D5663\"}, \"title\": {\"text\": \"\", \"font\": {\"color\": \"#4D5663\"}}, \"zerolinecolor\": \"#E1E5ED\"}, \"yaxis\": {\"gridcolor\": \"#E1E5ED\", \"showgrid\": true, \"tickfont\": {\"color\": \"#4D5663\"}, \"title\": {\"text\": \"\", \"font\": {\"color\": \"#4D5663\"}}, \"zerolinecolor\": \"#E1E5ED\"}}, {\"showLink\": true, \"linkText\": \"Export to plot.ly\", \"plotlyServerURL\": \"https://plot.ly\"}); \n",
       "}\n",
       "});</script><script type=\"text/javascript\">window.addEventListener(\"resize\", function(){if (document.getElementById(\"83091d1b-8ffe-46f8-a2a3-a8257290bce0\")) {window._Plotly.Plots.resize(document.getElementById(\"83091d1b-8ffe-46f8-a2a3-a8257290bce0\"));};})</script>"
      ],
      "text/vnd.plotly.v1+html": [
       "<div id=\"83091d1b-8ffe-46f8-a2a3-a8257290bce0\" style=\"height: 525px; width: 100%;\" class=\"plotly-graph-div\"></div><script type=\"text/javascript\">require([\"plotly\"], function(Plotly) { window.PLOTLYENV=window.PLOTLYENV || {};window.PLOTLYENV.BASE_URL=\"https://plot.ly\";\n",
       "if (document.getElementById(\"83091d1b-8ffe-46f8-a2a3-a8257290bce0\")) {\n",
       "    Plotly.newPlot(\"83091d1b-8ffe-46f8-a2a3-a8257290bce0\", [{\"fill\": \"tozeroy\", \"fillcolor\": \"rgba(255, 153, 51, 0.3)\", \"line\": {\"color\": \"rgba(255, 153, 51, 1.0)\", \"dash\": \"solid\", \"shape\": \"linear\", \"width\": 1.3}, \"mode\": \"lines\", \"name\": \"Abs\", \"text\": \"\", \"x\": [\"2018-08-04\", \"2018-08-07\", \"2018-08-23\", \"2018-08-28\", \"2018-09-06\", \"2018-09-14\", \"2018-09-18\", \"2018-09-21\", \"2018-10-03\", \"2018-10-09\", \"2018-10-24\", \"2018-10-27\", \"2018-11-05\", \"2018-11-24\", \"2018-12-01\", \"2018-12-08\", \"2018-12-15\", \"2018-12-29\", \"2019-01-04\", \"2019-01-15\", \"2019-01-28\", \"2019-02-02\", \"2019-02-08\", \"2019-02-14\", \"2019-02-21\", \"2019-03-04\", \"2019-03-13\", \"2019-03-29\", \"2019-04-12\", \"2019-04-19\", \"2019-05-02\", \"2019-05-08\", \"2019-05-14\", \"2019-05-25\"], \"y\": [\"\", \"\", \"\", \"\", 19.8, 8.2, 8.4, 5.8, 7.2, 6.6, 8.0, 7.8, 9.0, 10.4, 10.6, 9.0, 9.8, 10.8, 8.2, 9.0, 10.2, 9.8, 8.2, 8.2, 7.4, 7.0, 7.8, 9.8, 11.4, 11.4, 11.8, 11.2, 9.2, 8.6], \"type\": \"scatter\", \"uid\": \"744e0d5a-a9da-40da-bec7-6634f1729575\"}], {\"legend\": {\"bgcolor\": \"#F5F6F9\", \"font\": {\"color\": \"#4D5663\"}}, \"paper_bgcolor\": \"#F5F6F9\", \"plot_bgcolor\": \"#F5F6F9\", \"title\": {\"font\": {\"color\": \"#4D5663\"}}, \"xaxis\": {\"gridcolor\": \"#E1E5ED\", \"showgrid\": true, \"tickfont\": {\"color\": \"#4D5663\"}, \"title\": {\"text\": \"\", \"font\": {\"color\": \"#4D5663\"}}, \"zerolinecolor\": \"#E1E5ED\"}, \"yaxis\": {\"gridcolor\": \"#E1E5ED\", \"showgrid\": true, \"tickfont\": {\"color\": \"#4D5663\"}, \"title\": {\"text\": \"\", \"font\": {\"color\": \"#4D5663\"}}, \"zerolinecolor\": \"#E1E5ED\"}}, {\"showLink\": true, \"linkText\": \"Export to plot.ly\", \"plotlyServerURL\": \"https://plot.ly\"}); \n",
       "}\n",
       "});</script><script type=\"text/javascript\">window.addEventListener(\"resize\", function(){if (document.getElementById(\"83091d1b-8ffe-46f8-a2a3-a8257290bce0\")) {window._Plotly.Plots.resize(document.getElementById(\"83091d1b-8ffe-46f8-a2a3-a8257290bce0\"));};})</script>"
      ]
     },
     "metadata": {},
     "output_type": "display_data"
    }
   ],
   "source": [
    "since.Abs.dropna().rolling(5).mean().iplot(fill = True)"
   ]
  },
  {
   "cell_type": "code",
   "execution_count": 23,
   "metadata": {},
   "outputs": [
    {
     "data": {
      "application/vnd.plotly.v1+json": {
       "config": {
        "linkText": "Export to plot.ly",
        "plotlyServerURL": "https://plot.ly",
        "showLink": true
       },
       "data": [
        {
         "fill": "tozeroy",
         "fillcolor": "rgba(255, 153, 51, 0.3)",
         "line": {
          "color": "rgba(255, 153, 51, 1.0)",
          "dash": "solid",
          "shape": "linear",
          "width": 1.3
         },
         "marker": {
          "size": 12,
          "symbol": "circle"
         },
         "mode": "lines+markers",
         "name": "Back",
         "text": "",
         "type": "scatter",
         "uid": "5c1a0761-781d-457a-bb18-2cee14a2c0c0",
         "x": [
          "2019-01-21",
          "2019-02-04",
          "2019-02-09",
          "2019-02-18",
          "2019-03-11",
          "2019-03-23",
          "2019-03-30",
          "2019-04-15",
          "2019-04-27",
          "2019-05-06",
          "2019-05-18"
         ],
         "y": [
          "",
          "",
          "",
          "",
          17.4,
          12.2,
          10.8,
          13,
          13.6,
          11.2,
          11.2
         ]
        }
       ],
       "layout": {
        "autosize": true,
        "legend": {
         "bgcolor": "#F5F6F9",
         "font": {
          "color": "#4D5663"
         }
        },
        "paper_bgcolor": "#F5F6F9",
        "plot_bgcolor": "#F5F6F9",
        "title": {
         "font": {
          "color": "#4D5663"
         }
        },
        "xaxis": {
         "autorange": true,
         "gridcolor": "#E1E5ED",
         "range": [
          "2019-01-21",
          "2019-05-18"
         ],
         "showgrid": true,
         "tickfont": {
          "color": "#4D5663"
         },
         "title": {
          "font": {
           "color": "#4D5663"
          },
          "text": ""
         },
         "type": "date",
         "zerolinecolor": "#E1E5ED"
        },
        "yaxis": {
         "autorange": true,
         "gridcolor": "#E1E5ED",
         "range": [
          0,
          18.77322677322677
         ],
         "showgrid": true,
         "tickfont": {
          "color": "#4D5663"
         },
         "title": {
          "font": {
           "color": "#4D5663"
          },
          "text": ""
         },
         "type": "linear",
         "zerolinecolor": "#E1E5ED"
        }
       }
      },
      "image/png": "[encoded data removed]",
      "text/html": [
       "<div id=\"9edd7403-eee7-4338-a3f6-819908ec5fe8\" style=\"height: 525px; width: 100%;\" class=\"plotly-graph-div\"></div><script type=\"text/javascript\">require([\"plotly\"], function(Plotly) { window.PLOTLYENV=window.PLOTLYENV || {};window.PLOTLYENV.BASE_URL=\"https://plot.ly\";\n",
       "if (document.getElementById(\"9edd7403-eee7-4338-a3f6-819908ec5fe8\")) {\n",
       "    Plotly.newPlot(\"9edd7403-eee7-4338-a3f6-819908ec5fe8\", [{\"fill\": \"tozeroy\", \"fillcolor\": \"rgba(255, 153, 51, 0.3)\", \"line\": {\"color\": \"rgba(255, 153, 51, 1.0)\", \"dash\": \"solid\", \"shape\": \"linear\", \"width\": 1.3}, \"marker\": {\"size\": 12, \"symbol\": \"circle\"}, \"mode\": \"lines+markers\", \"name\": \"Back\", \"text\": \"\", \"x\": [\"2019-01-21\", \"2019-02-04\", \"2019-02-09\", \"2019-02-18\", \"2019-03-11\", \"2019-03-23\", \"2019-03-30\", \"2019-04-15\", \"2019-04-27\", \"2019-05-06\", \"2019-05-18\"], \"y\": [\"\", \"\", \"\", \"\", 17.4, 12.2, 10.8, 13.0, 13.6, 11.2, 11.2], \"type\": \"scatter\", \"uid\": \"52a883c7-64a7-4cbd-bc2e-11d0af035844\"}], {\"legend\": {\"bgcolor\": \"#F5F6F9\", \"font\": {\"color\": \"#4D5663\"}}, \"paper_bgcolor\": \"#F5F6F9\", \"plot_bgcolor\": \"#F5F6F9\", \"title\": {\"font\": {\"color\": \"#4D5663\"}}, \"xaxis\": {\"gridcolor\": \"#E1E5ED\", \"showgrid\": true, \"tickfont\": {\"color\": \"#4D5663\"}, \"title\": {\"text\": \"\", \"font\": {\"color\": \"#4D5663\"}}, \"zerolinecolor\": \"#E1E5ED\"}, \"yaxis\": {\"gridcolor\": \"#E1E5ED\", \"showgrid\": true, \"tickfont\": {\"color\": \"#4D5663\"}, \"title\": {\"text\": \"\", \"font\": {\"color\": \"#4D5663\"}}, \"zerolinecolor\": \"#E1E5ED\"}}, {\"showLink\": true, \"linkText\": \"Export to plot.ly\", \"plotlyServerURL\": \"https://plot.ly\"}); \n",
       "}\n",
       "});</script><script type=\"text/javascript\">window.addEventListener(\"resize\", function(){if (document.getElementById(\"9edd7403-eee7-4338-a3f6-819908ec5fe8\")) {window._Plotly.Plots.resize(document.getElementById(\"9edd7403-eee7-4338-a3f6-819908ec5fe8\"));};})</script>"
      ],
      "text/vnd.plotly.v1+html": [
       "<div id=\"9edd7403-eee7-4338-a3f6-819908ec5fe8\" style=\"height: 525px; width: 100%;\" class=\"plotly-graph-div\"></div><script type=\"text/javascript\">require([\"plotly\"], function(Plotly) { window.PLOTLYENV=window.PLOTLYENV || {};window.PLOTLYENV.BASE_URL=\"https://plot.ly\";\n",
       "if (document.getElementById(\"9edd7403-eee7-4338-a3f6-819908ec5fe8\")) {\n",
       "    Plotly.newPlot(\"9edd7403-eee7-4338-a3f6-819908ec5fe8\", [{\"fill\": \"tozeroy\", \"fillcolor\": \"rgba(255, 153, 51, 0.3)\", \"line\": {\"color\": \"rgba(255, 153, 51, 1.0)\", \"dash\": \"solid\", \"shape\": \"linear\", \"width\": 1.3}, \"marker\": {\"size\": 12, \"symbol\": \"circle\"}, \"mode\": \"lines+markers\", \"name\": \"Back\", \"text\": \"\", \"x\": [\"2019-01-21\", \"2019-02-04\", \"2019-02-09\", \"2019-02-18\", \"2019-03-11\", \"2019-03-23\", \"2019-03-30\", \"2019-04-15\", \"2019-04-27\", \"2019-05-06\", \"2019-05-18\"], \"y\": [\"\", \"\", \"\", \"\", 17.4, 12.2, 10.8, 13.0, 13.6, 11.2, 11.2], \"type\": \"scatter\", \"uid\": \"52a883c7-64a7-4cbd-bc2e-11d0af035844\"}], {\"legend\": {\"bgcolor\": \"#F5F6F9\", \"font\": {\"color\": \"#4D5663\"}}, \"paper_bgcolor\": \"#F5F6F9\", \"plot_bgcolor\": \"#F5F6F9\", \"title\": {\"font\": {\"color\": \"#4D5663\"}}, \"xaxis\": {\"gridcolor\": \"#E1E5ED\", \"showgrid\": true, \"tickfont\": {\"color\": \"#4D5663\"}, \"title\": {\"text\": \"\", \"font\": {\"color\": \"#4D5663\"}}, \"zerolinecolor\": \"#E1E5ED\"}, \"yaxis\": {\"gridcolor\": \"#E1E5ED\", \"showgrid\": true, \"tickfont\": {\"color\": \"#4D5663\"}, \"title\": {\"text\": \"\", \"font\": {\"color\": \"#4D5663\"}}, \"zerolinecolor\": \"#E1E5ED\"}}, {\"showLink\": true, \"linkText\": \"Export to plot.ly\", \"plotlyServerURL\": \"https://plot.ly\"}); \n",
       "}\n",
       "});</script><script type=\"text/javascript\">window.addEventListener(\"resize\", function(){if (document.getElementById(\"9edd7403-eee7-4338-a3f6-819908ec5fe8\")) {window._Plotly.Plots.resize(document.getElementById(\"9edd7403-eee7-4338-a3f6-819908ec5fe8\"));};})</script>"
      ]
     },
     "metadata": {},
     "output_type": "display_data"
    }
   ],
   "source": [
    "since.Back.dropna().rolling(5).mean().iplot(fill = True, mode = 'lines+markers')"
   ]
  },
  {
   "cell_type": "code",
   "execution_count": 24,
   "metadata": {},
   "outputs": [
    {
     "data": {
      "application/vnd.plotly.v1+json": {
       "config": {
        "linkText": "Export to plot.ly",
        "plotlyServerURL": "https://plot.ly",
        "showLink": true
       },
       "data": [
        {
         "fill": "tozeroy",
         "fillcolor": "rgba(255, 153, 51, 0.3)",
         "line": {
          "color": "rgba(255, 153, 51, 1.0)",
          "dash": "solid",
          "shape": "linear",
          "width": 1.3
         },
         "marker": {
          "size": 12,
          "symbol": "circle"
         },
         "mode": "lines+markers",
         "name": "Chest",
         "text": "",
         "type": "scatter",
         "uid": "bc6d23dc-3451-4ec0-b669-03859bf43489",
         "x": [
          "2018-05-18",
          "2018-05-23",
          "2018-05-31",
          "2018-06-08",
          "2018-06-14",
          "2018-06-20",
          "2018-06-22",
          "2018-06-27",
          "2018-07-04",
          "2018-07-12",
          "2018-07-19",
          "2018-07-25",
          "2018-08-03",
          "2018-08-10",
          "2018-08-22",
          "2018-08-30",
          "2018-09-04",
          "2018-09-12",
          "2018-09-19",
          "2018-10-01",
          "2018-10-10",
          "2018-10-23",
          "2018-11-02",
          "2018-11-12",
          "2018-11-26",
          "2018-12-03",
          "2018-12-10",
          "2018-12-26",
          "2019-01-02",
          "2019-01-08",
          "2019-01-19",
          "2019-02-01",
          "2019-02-11",
          "2019-02-23",
          "2019-03-06",
          "2019-03-20",
          "2019-04-01",
          "2019-04-13",
          "2019-04-22",
          "2019-05-04",
          "2019-05-11",
          "2019-05-22"
         ],
         "y": [
          "",
          "",
          "",
          "",
          8.6,
          6.6,
          6,
          5.4,
          5.2,
          5.6,
          5.8,
          6.6,
          7.4,
          7.4,
          8.2,
          8.4,
          8.2,
          8,
          8,
          8,
          8.2,
          9.8,
          10.2,
          10.8,
          11.2,
          10.8,
          9.6,
          10.8,
          10.2,
          8.6,
          9.4,
          10.6,
          9.4,
          10.4,
          11.4,
          12,
          11.8,
          12.2,
          11.6,
          11.8,
          10.4,
          10.2
         ]
        }
       ],
       "layout": {
        "autosize": true,
        "legend": {
         "bgcolor": "#F5F6F9",
         "font": {
          "color": "#4D5663"
         }
        },
        "paper_bgcolor": "#F5F6F9",
        "plot_bgcolor": "#F5F6F9",
        "title": {
         "font": {
          "color": "#4D5663"
         }
        },
        "xaxis": {
         "autorange": true,
         "gridcolor": "#E1E5ED",
         "range": [
          "2018-05-18",
          "2019-05-22"
         ],
         "showgrid": true,
         "tickfont": {
          "color": "#4D5663"
         },
         "title": {
          "font": {
           "color": "#4D5663"
          },
          "text": ""
         },
         "type": "date",
         "zerolinecolor": "#E1E5ED"
        },
        "yaxis": {
         "autorange": true,
         "gridcolor": "#E1E5ED",
         "range": [
          0,
          13.162837162837162
         ],
         "showgrid": true,
         "tickfont": {
          "color": "#4D5663"
         },
         "title": {
          "font": {
           "color": "#4D5663"
          },
          "text": ""
         },
         "type": "linear",
         "zerolinecolor": "#E1E5ED"
        }
       }
      },
      "image/png": "[encoded data removed]",
      "text/html": [
       "<div id=\"3992ba5f-88c6-426b-b6ab-a0ff04174b4b\" style=\"height: 525px; width: 100%;\" class=\"plotly-graph-div\"></div><script type=\"text/javascript\">require([\"plotly\"], function(Plotly) { window.PLOTLYENV=window.PLOTLYENV || {};window.PLOTLYENV.BASE_URL=\"https://plot.ly\";\n",
       "if (document.getElementById(\"3992ba5f-88c6-426b-b6ab-a0ff04174b4b\")) {\n",
       "    Plotly.newPlot(\"3992ba5f-88c6-426b-b6ab-a0ff04174b4b\", [{\"fill\": \"tozeroy\", \"fillcolor\": \"rgba(255, 153, 51, 0.3)\", \"line\": {\"color\": \"rgba(255, 153, 51, 1.0)\", \"dash\": \"solid\", \"shape\": \"linear\", \"width\": 1.3}, \"marker\": {\"size\": 12, \"symbol\": \"circle\"}, \"mode\": \"lines+markers\", \"name\": \"Chest\", \"text\": \"\", \"x\": [\"2018-05-18\", \"2018-05-23\", \"2018-05-31\", \"2018-06-08\", \"2018-06-14\", \"2018-06-20\", \"2018-06-22\", \"2018-06-27\", \"2018-07-04\", \"2018-07-12\", \"2018-07-19\", \"2018-07-25\", \"2018-08-03\", \"2018-08-10\", \"2018-08-22\", \"2018-08-30\", \"2018-09-04\", \"2018-09-12\", \"2018-09-19\", \"2018-10-01\", \"2018-10-10\", \"2018-10-23\", \"2018-11-02\", \"2018-11-12\", \"2018-11-26\", \"2018-12-03\", \"2018-12-10\", \"2018-12-26\", \"2019-01-02\", \"2019-01-08\", \"2019-01-19\", \"2019-02-01\", \"2019-02-11\", \"2019-02-23\", \"2019-03-06\", \"2019-03-20\", \"2019-04-01\", \"2019-04-13\", \"2019-04-22\", \"2019-05-04\", \"2019-05-11\", \"2019-05-22\"], \"y\": [\"\", \"\", \"\", \"\", 8.6, 6.6, 6.0, 5.4, 5.2, 5.6, 5.8, 6.6, 7.4, 7.4, 8.2, 8.4, 8.2, 8.0, 8.0, 8.0, 8.2, 9.8, 10.2, 10.8, 11.2, 10.8, 9.6, 10.8, 10.2, 8.6, 9.4, 10.6, 9.4, 10.4, 11.4, 12.0, 11.8, 12.2, 11.6, 11.8, 10.4, 10.2], \"type\": \"scatter\", \"uid\": \"3c4e11ba-7292-4fc1-a19b-cf8696f0a061\"}], {\"legend\": {\"bgcolor\": \"#F5F6F9\", \"font\": {\"color\": \"#4D5663\"}}, \"paper_bgcolor\": \"#F5F6F9\", \"plot_bgcolor\": \"#F5F6F9\", \"title\": {\"font\": {\"color\": \"#4D5663\"}}, \"xaxis\": {\"gridcolor\": \"#E1E5ED\", \"showgrid\": true, \"tickfont\": {\"color\": \"#4D5663\"}, \"title\": {\"text\": \"\", \"font\": {\"color\": \"#4D5663\"}}, \"zerolinecolor\": \"#E1E5ED\"}, \"yaxis\": {\"gridcolor\": \"#E1E5ED\", \"showgrid\": true, \"tickfont\": {\"color\": \"#4D5663\"}, \"title\": {\"text\": \"\", \"font\": {\"color\": \"#4D5663\"}}, \"zerolinecolor\": \"#E1E5ED\"}}, {\"showLink\": true, \"linkText\": \"Export to plot.ly\", \"plotlyServerURL\": \"https://plot.ly\"}); \n",
       "}\n",
       "});</script><script type=\"text/javascript\">window.addEventListener(\"resize\", function(){if (document.getElementById(\"3992ba5f-88c6-426b-b6ab-a0ff04174b4b\")) {window._Plotly.Plots.resize(document.getElementById(\"3992ba5f-88c6-426b-b6ab-a0ff04174b4b\"));};})</script>"
      ],
      "text/vnd.plotly.v1+html": [
       "<div id=\"3992ba5f-88c6-426b-b6ab-a0ff04174b4b\" style=\"height: 525px; width: 100%;\" class=\"plotly-graph-div\"></div><script type=\"text/javascript\">require([\"plotly\"], function(Plotly) { window.PLOTLYENV=window.PLOTLYENV || {};window.PLOTLYENV.BASE_URL=\"https://plot.ly\";\n",
       "if (document.getElementById(\"3992ba5f-88c6-426b-b6ab-a0ff04174b4b\")) {\n",
       "    Plotly.newPlot(\"3992ba5f-88c6-426b-b6ab-a0ff04174b4b\", [{\"fill\": \"tozeroy\", \"fillcolor\": \"rgba(255, 153, 51, 0.3)\", \"line\": {\"color\": \"rgba(255, 153, 51, 1.0)\", \"dash\": \"solid\", \"shape\": \"linear\", \"width\": 1.3}, \"marker\": {\"size\": 12, \"symbol\": \"circle\"}, \"mode\": \"lines+markers\", \"name\": \"Chest\", \"text\": \"\", \"x\": [\"2018-05-18\", \"2018-05-23\", \"2018-05-31\", \"2018-06-08\", \"2018-06-14\", \"2018-06-20\", \"2018-06-22\", \"2018-06-27\", \"2018-07-04\", \"2018-07-12\", \"2018-07-19\", \"2018-07-25\", \"2018-08-03\", \"2018-08-10\", \"2018-08-22\", \"2018-08-30\", \"2018-09-04\", \"2018-09-12\", \"2018-09-19\", \"2018-10-01\", \"2018-10-10\", \"2018-10-23\", \"2018-11-02\", \"2018-11-12\", \"2018-11-26\", \"2018-12-03\", \"2018-12-10\", \"2018-12-26\", \"2019-01-02\", \"2019-01-08\", \"2019-01-19\", \"2019-02-01\", \"2019-02-11\", \"2019-02-23\", \"2019-03-06\", \"2019-03-20\", \"2019-04-01\", \"2019-04-13\", \"2019-04-22\", \"2019-05-04\", \"2019-05-11\", \"2019-05-22\"], \"y\": [\"\", \"\", \"\", \"\", 8.6, 6.6, 6.0, 5.4, 5.2, 5.6, 5.8, 6.6, 7.4, 7.4, 8.2, 8.4, 8.2, 8.0, 8.0, 8.0, 8.2, 9.8, 10.2, 10.8, 11.2, 10.8, 9.6, 10.8, 10.2, 8.6, 9.4, 10.6, 9.4, 10.4, 11.4, 12.0, 11.8, 12.2, 11.6, 11.8, 10.4, 10.2], \"type\": \"scatter\", \"uid\": \"3c4e11ba-7292-4fc1-a19b-cf8696f0a061\"}], {\"legend\": {\"bgcolor\": \"#F5F6F9\", \"font\": {\"color\": \"#4D5663\"}}, \"paper_bgcolor\": \"#F5F6F9\", \"plot_bgcolor\": \"#F5F6F9\", \"title\": {\"font\": {\"color\": \"#4D5663\"}}, \"xaxis\": {\"gridcolor\": \"#E1E5ED\", \"showgrid\": true, \"tickfont\": {\"color\": \"#4D5663\"}, \"title\": {\"text\": \"\", \"font\": {\"color\": \"#4D5663\"}}, \"zerolinecolor\": \"#E1E5ED\"}, \"yaxis\": {\"gridcolor\": \"#E1E5ED\", \"showgrid\": true, \"tickfont\": {\"color\": \"#4D5663\"}, \"title\": {\"text\": \"\", \"font\": {\"color\": \"#4D5663\"}}, \"zerolinecolor\": \"#E1E5ED\"}}, {\"showLink\": true, \"linkText\": \"Export to plot.ly\", \"plotlyServerURL\": \"https://plot.ly\"}); \n",
       "}\n",
       "});</script><script type=\"text/javascript\">window.addEventListener(\"resize\", function(){if (document.getElementById(\"3992ba5f-88c6-426b-b6ab-a0ff04174b4b\")) {window._Plotly.Plots.resize(document.getElementById(\"3992ba5f-88c6-426b-b6ab-a0ff04174b4b\"));};})</script>"
      ]
     },
     "metadata": {},
     "output_type": "display_data"
    }
   ],
   "source": [
    "since.Chest.dropna().rolling(5).mean().iplot(fill = True, mode = 'lines+markers')"
   ]
  }
 ],
 "metadata": {
  "kernelspec": {
   "display_name": "Python 3",
   "language": "python",
   "name": "python3"
  },
  "language_info": {
   "codemirror_mode": {
    "name": "ipython",
    "version": 3
   },
   "file_extension": ".py",
   "mimetype": "text/x-python",
   "name": "python",
   "nbconvert_exporter": "python",
   "pygments_lexer": "ipython3",
   "version": "3.7.3"
  }
 },
 "nbformat": 4,
 "nbformat_minor": 2
}

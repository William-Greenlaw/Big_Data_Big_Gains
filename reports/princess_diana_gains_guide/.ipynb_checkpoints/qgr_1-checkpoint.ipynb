{
 "cells": [
  {
   "cell_type": "markdown",
   "metadata": {},
   "source": [
    "# Princess Diana's Gains Guide\n",
    "\n",
    "- Quarterly Gains Report #1: Princess Diana's Gains Guide\n",
    "- Consider tracking the intensity of each set; I.E. % of 1RM, 60%, 75%, 85% etc.\n",
    "    - This would require calculating 1RMs at the beginning of the workout routine."
   ]
  },
  {
   "cell_type": "code",
   "execution_count": 1,
   "metadata": {},
   "outputs": [
    {
     "data": {
      "text/html": [
       "<script type=\"text/javascript\">window.PlotlyConfig = {MathJaxConfig: 'local'};</script><script type=\"text/javascript\">if (window.MathJax) {MathJax.Hub.Config({SVG: {font: \"STIX-Web\"}});}</script><script>requirejs.config({paths: { 'plotly': ['https://cdn.plot.ly/plotly-latest.min']},});if(!window._Plotly) {require(['plotly'],function(plotly) {window._Plotly=plotly;});}</script>"
      ],
      "text/vnd.plotly.v1+html": [
       "<script type=\"text/javascript\">window.PlotlyConfig = {MathJaxConfig: 'local'};</script><script type=\"text/javascript\">if (window.MathJax) {MathJax.Hub.Config({SVG: {font: \"STIX-Web\"}});}</script><script>requirejs.config({paths: { 'plotly': ['https://cdn.plot.ly/plotly-latest.min']},});if(!window._Plotly) {require(['plotly'],function(plotly) {window._Plotly=plotly;});}</script>"
      ]
     },
     "metadata": {},
     "output_type": "display_data"
    }
   ],
   "source": [
    "#basic imports\n",
    "import numpy as np\n",
    "import pandas as pd\n",
    "\n",
    "#visualization libraries\n",
    "import cufflinks as cf\n",
    "cf.go_offline()\n",
    "\n",
    "import plotly.graph_objs as go\n",
    "import plotly.tools as tls\n",
    "import plotly.io as pio\n",
    "from plotly.offline import iplot\n",
    "\n",
    "import plotly.io as pio"
   ]
  },
  {
   "cell_type": "code",
   "execution_count": 2,
   "metadata": {},
   "outputs": [],
   "source": [
    "def gains(df, color, category = 'abs'):\n",
    "    '''\n",
    "    Plot workout volume within a routine over time.\n",
    "    '''\n",
    "    # make the traces the column names in reverse, placing the total volume column in front for the largest subplot\n",
    "    traces = df.columns[::-1]\n",
    "    \n",
    "    # create subplots, one plot for each exercise in the routine\n",
    "    if category == 'abs':\n",
    "        subplots = tls.make_subplots(rows=3, cols=4, \n",
    "                              specs=[[{'colspan': 2, 'rowspan': 3}, None, {}, {}], # reserve one large subplot for the total volume field\n",
    "                                     [None, None, {}, {}], # reserve remaining subplots for other exercises\n",
    "                                     [None, None, {}, {}],\n",
    "                                    ],\n",
    "                                 subplot_titles = traces,\n",
    "                              print_grid=True)\n",
    "        # set row and col position list for plotting\n",
    "        rows = [1,1,1,2,2,3,3]\n",
    "        cols = [1,3,4,3,4,3,4,]\n",
    "        x_axes = range(2,6)\n",
    "        \n",
    "    else:\n",
    "        subplots = tls.make_subplots(rows=5, cols=4, \n",
    "                              specs=[[{'colspan': 2, 'rowspan': 5}, None, {}, {}], # reserve one large subplot for the total volume field\n",
    "                                     [None, None, {}, {}], # reserve remaining subplots for other exercises\n",
    "                                     [None, None, {}, {}],\n",
    "                                     [None, None, {}, {}],\n",
    "                                     [None, None, {}, {}]\n",
    "                                    ],\n",
    "                                 subplot_titles = traces,\n",
    "                              print_grid=True)\n",
    "        \n",
    "        # set row and col position list for plotting\n",
    "        rows = [1,1,1,2,2,3,3,4,4,5,5]\n",
    "        cols = [1,3,4,3,4,3,4,3,4,3,4]\n",
    "        x_axes = range(2,10)\n",
    "    \n",
    "    # intanstiate plot using the subplots\n",
    "    f = go.FigureWidget(subplots)\n",
    "    \n",
    "    # create rolling 5-workout mean for each exercise\n",
    "    means = df.rolling(5).mean()\n",
    "    \n",
    "    # plot each exercise in its own subplot\n",
    "    for row, col, trace in zip(rows, cols, traces):\n",
    "        \n",
    "        # print values for diagnostic purposes\n",
    "        print(trace)\n",
    "        print(row, col)\n",
    "        \n",
    "        # plot exercise volumes then rolling means\n",
    "        for frame in [df, means]:\n",
    "            \n",
    "            # exercise volumes\n",
    "            f.add_scatter(x = frame.index, y = frame[trace], \n",
    "                          mode = 'lines',\n",
    "                          marker = {'color':'black'} if frame is means else {'color': f'{color}'},\n",
    "                          line = {'shape': 'spline'} if frame is means else {}, # make the rolling means smooth but the normal value normal\n",
    "                          showlegend = False, \n",
    "                          name = trace if frame is df else 'Mean',\n",
    "                          row = row, col= col)\n",
    "    \n",
    "    # hide x-axis values for the upper-most plots, leaving on the x-axis of the bottom plots for better visibility\n",
    "    for axis in x_axes:\n",
    "        f.layout[f'xaxis{axis}'].visible = False\n",
    "    \n",
    "    # add my signature logo\n",
    "    f.layout.images = [dict(\n",
    "        source=\"https://raw.githubusercontent.com/WilliamGreenlaw/Logos/master/signature_min.png\",\n",
    "        xref=\"paper\", yref=\"paper\",\n",
    "        x=1, y=1.10,\n",
    "        sizex=0.2, sizey=0.2,\n",
    "        xanchor=\"right\", yanchor=\"bottom\"\n",
    "      )]\n",
    "    \n",
    "    # set axis labels\n",
    "    f.layout.yaxis.title = 'Volume (lbs)'\n",
    "    f.layout.xaxis.title = 'Date'\n",
    "    \n",
    "    # set colors\n",
    "    f.layout.plot_bgcolor = '#E5E5E5'\n",
    "    f.layout.paper_bgcolor = '#E5E5E5'\n",
    "    \n",
    "    return f"
   ]
  },
  {
   "cell_type": "code",
   "execution_count": 16,
   "metadata": {},
   "outputs": [],
   "source": [
    "exercises = pd.read_csv('../../fitnotes/exercises.csv')"
   ]
  },
  {
   "cell_type": "code",
   "execution_count": 18,
   "metadata": {},
   "outputs": [],
   "source": [
    "categories = ['Chest', 'Back', 'Abs']\n",
    "chest, back, ab = [exercises\n",
    "                   .loc[(exercises.routine == 'Princess Diana Gains Guide') & \n",
    "                                 (exercises.category == category)]\n",
    "                   .pivot(index = 'date', columns = 'exercise', values = 'volume')\n",
    "                   .assign(total_volume = lambda df: df.sum(axis = 1))\n",
    "                   .rename(columns = {'total_volume': 'Total Volume'})\n",
    "                   for category in categories]"
   ]
  },
  {
   "cell_type": "code",
   "execution_count": 19,
   "metadata": {},
   "outputs": [],
   "source": [
    "figs = {}"
   ]
  },
  {
   "cell_type": "code",
   "execution_count": 20,
   "metadata": {},
   "outputs": [
    {
     "name": "stdout",
     "output_type": "stream",
     "text": [
      "This is the format of your plot grid:\n",
      "[ (1,1) x1,y1           -      ]  [ (1,3) x2,y2 ]  [ (1,4) x3,y3 ]\n",
      "       |             (empty)      [ (2,3) x4,y4 ]  [ (2,4) x5,y5 ]\n",
      "       |                |         [ (3,3) x6,y6 ]  [ (3,4) x7,y7 ]\n",
      "\n",
      "Total Volume\n",
      "1 1\n",
      "Mounted Oblique Leans\n",
      "1 3\n",
      "Med Ball Straight Leg Spread Eagles\n",
      "1 4\n",
      "Hanging Knee Raise\n",
      "2 3\n",
      "Hanging Front Snap Kick Raise\n",
      "2 4\n",
      "Decline Oblique Chops\n",
      "3 3\n",
      "Ab-Wheel Rollout Side-Side-Front\n",
      "3 4\n"
     ]
    }
   ],
   "source": [
    "figs['abs'] = gains(ab, color = '#037F8C', category = 'abs')\n",
    "figs['abs'].layout.title = '<b>Ab Volume Rises Because of Weighted Exercises Added Later on</b><br><i>Ab Volume over Time, Five-Workout Average in Black'"
   ]
  },
  {
   "cell_type": "code",
   "execution_count": 21,
   "metadata": {},
   "outputs": [
    {
     "name": "stdout",
     "output_type": "stream",
     "text": [
      "This is the format of your plot grid:\n",
      "[ (1,1) x1,y1             -        ]  [ (1,3) x2,y2 ]    [ (1,4) x3,y3 ]  \n",
      "       |               (empty)        [ (2,3) x4,y4 ]    [ (2,4) x5,y5 ]  \n",
      "       |               (empty)        [ (3,3) x6,y6 ]    [ (3,4) x7,y7 ]  \n",
      "       |               (empty)        [ (4,3) x8,y8 ]    [ (4,4) x9,y9 ]  \n",
      "       |                  |           [ (5,3) x10,y10 ]  [ (5,4) x11,y11 ]\n",
      "\n",
      "Total Volume\n",
      "1 1\n",
      "Single Arm Hammer Strength Press\n",
      "1 3\n",
      "Lower Chest Bracket Pushups\n",
      "1 4\n",
      "Incline Pushup\n",
      "2 3\n",
      "Incline Barbell Bench Press\n",
      "2 4\n",
      "Flat Barbell Bench Press\n",
      "3 3\n",
      "Decline Dumbbell Fly\n",
      "3 4\n",
      "Decline Dumbbell Benchpress\n",
      "4 3\n",
      "Decline Cable Fly\n",
      "4 4\n",
      "Decline Barbell Bench Press\n",
      "5 3\n",
      "Close Grip Dip\n",
      "5 4\n"
     ]
    }
   ],
   "source": [
    "figs['chest'] = gains(chest, color = '#A6431F', category = 'chest')\n",
    "figs['chest'].layout.title = '<b>Chest Volume Has Declined Since February 1st, 2018</b><br><i>Chest Volume over Time, Five-Workout Average in Black'"
   ]
  },
  {
   "cell_type": "code",
   "execution_count": 22,
   "metadata": {},
   "outputs": [
    {
     "name": "stdout",
     "output_type": "stream",
     "text": [
      "This is the format of your plot grid:\n",
      "[ (1,1) x1,y1             -        ]  [ (1,3) x2,y2 ]    [ (1,4) x3,y3 ]  \n",
      "       |               (empty)        [ (2,3) x4,y4 ]    [ (2,4) x5,y5 ]  \n",
      "       |               (empty)        [ (3,3) x6,y6 ]    [ (3,4) x7,y7 ]  \n",
      "       |               (empty)        [ (4,3) x8,y8 ]    [ (4,4) x9,y9 ]  \n",
      "       |                  |           [ (5,3) x10,y10 ]  [ (5,4) x11,y11 ]\n",
      "\n",
      "Total Volume\n",
      "1 1\n",
      "Wide Lat Pulldown Supinated\n",
      "1 3\n",
      "Single Arm Lat Cable Pulldown\n",
      "1 4\n",
      "Seated Back Extension\n",
      "2 3\n",
      "Reverse Cable Fly\n",
      "2 4\n",
      "Pull Up\n",
      "3 3\n",
      "Decline Pullups\n",
      "3 4\n",
      "Bent Over Single Arm Cable Rows with Twist\n",
      "4 3\n",
      "Bent Over Rope Pulldowns\n",
      "4 4\n",
      "Bent Over EZ Bar Cable Rows\n",
      "5 3\n",
      "Barbell Row\n",
      "5 4\n"
     ]
    }
   ],
   "source": [
    "figs['back'] = gains(back, color = '#5B4973', category = 'back')\n",
    "figs['back'].layout.title = '<b>Back Volume Has Remained Stagnant on Average over Time</b><br><i>Back Volume over Time, Five-Workout Average in Black'"
   ]
  },
  {
   "cell_type": "code",
   "execution_count": 23,
   "metadata": {},
   "outputs": [
    {
     "data": {
      "application/vnd.jupyter.widget-view+json": {
       "model_id": "720b0abfd42f436785d1f19740b9e95f",
       "version_major": 2,
       "version_minor": 0
      },
      "text/plain": [
       "FigureWidget({\n",
       "    'data': [{'marker': {'color': '#5B4973'},\n",
       "              'mode': 'lines',\n",
       "              'nam…"
      ]
     },
     "metadata": {},
     "output_type": "display_data"
    }
   ],
   "source": [
    "figs['back']"
   ]
  },
  {
   "cell_type": "code",
   "execution_count": 27,
   "metadata": {},
   "outputs": [
    {
     "data": {
      "application/vnd.jupyter.widget-view+json": {
       "model_id": "1fe142d87dd64111a667b2820364d7c6",
       "version_major": 2,
       "version_minor": 0
      },
      "text/plain": [
       "FigureWidget({\n",
       "    'data': [{'marker': {'color': '#A6431F'},\n",
       "              'mode': 'lines',\n",
       "              'nam…"
      ]
     },
     "metadata": {},
     "output_type": "display_data"
    }
   ],
   "source": [
    "figs['chest']"
   ]
  },
  {
   "cell_type": "code",
   "execution_count": 25,
   "metadata": {},
   "outputs": [
    {
     "data": {
      "application/vnd.jupyter.widget-view+json": {
       "model_id": "45559a65e2d941c78bb3ac4ce005eb04",
       "version_major": 2,
       "version_minor": 0
      },
      "text/plain": [
       "FigureWidget({\n",
       "    'data': [{'marker': {'color': '#037F8C'},\n",
       "              'mode': 'lines',\n",
       "              'nam…"
      ]
     },
     "metadata": {},
     "output_type": "display_data"
    }
   ],
   "source": [
    "figs['abs']"
   ]
  },
  {
   "cell_type": "code",
   "execution_count": 26,
   "metadata": {},
   "outputs": [],
   "source": [
    "pio.write_image(figs['back'], 'back.svg', width = 1500, height = 500)\n",
    "pio.write_image(figs['chest'], 'chest.svg', width = 1500, height = 500)\n",
    "pio.write_image(figs['abs'], 'abs.svg', width = 1500, height = 500)"
   ]
  }
 ],
 "metadata": {
  "kernelspec": {
   "display_name": "Python 3",
   "language": "python",
   "name": "python3"
  },
  "language_info": {
   "codemirror_mode": {
    "name": "ipython",
    "version": 3
   },
   "file_extension": ".py",
   "mimetype": "text/x-python",
   "name": "python",
   "nbconvert_exporter": "python",
   "pygments_lexer": "ipython3",
   "version": "3.7.3"
  }
 },
 "nbformat": 4,
 "nbformat_minor": 2
}

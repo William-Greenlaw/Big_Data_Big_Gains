{
 "cells": [
  {
   "cell_type": "code",
   "execution_count": 1,
   "metadata": {},
   "outputs": [
    {
     "data": {
      "text/html": [
       "<script type=\"text/javascript\">window.PlotlyConfig = {MathJaxConfig: 'local'};</script><script type=\"text/javascript\">if (window.MathJax) {MathJax.Hub.Config({SVG: {font: \"STIX-Web\"}});}</script><script>requirejs.config({paths: { 'plotly': ['https://cdn.plot.ly/plotly-latest.min']},});if(!window._Plotly) {require(['plotly'],function(plotly) {window._Plotly=plotly;});}</script>"
      ],
      "text/vnd.plotly.v1+html": [
       "<script type=\"text/javascript\">window.PlotlyConfig = {MathJaxConfig: 'local'};</script><script type=\"text/javascript\">if (window.MathJax) {MathJax.Hub.Config({SVG: {font: \"STIX-Web\"}});}</script><script>requirejs.config({paths: { 'plotly': ['https://cdn.plot.ly/plotly-latest.min']},});if(!window._Plotly) {require(['plotly'],function(plotly) {window._Plotly=plotly;});}</script>"
      ]
     },
     "metadata": {},
     "output_type": "display_data"
    }
   ],
   "source": [
    "#basic imports\n",
    "import numpy as np\n",
    "import pandas as pd\n",
    "\n",
    "#visualization libraries\n",
    "import cufflinks as cf\n",
    "cf.go_offline()\n",
    "\n",
    "import plotly.graph_objs as go\n",
    "import plotly.tools as tls\n",
    "import plotly.io as pio\n",
    "from plotly.offline import iplot\n",
    "\n",
    "import plotly.io as pio"
   ]
  },
  {
   "cell_type": "code",
   "execution_count": 2,
   "metadata": {},
   "outputs": [],
   "source": [
    "exercises = pd.read_csv('exercises.csv')"
   ]
  },
  {
   "cell_type": "code",
   "execution_count": 3,
   "metadata": {},
   "outputs": [],
   "source": [
    "volume = exercises.groupby('date')[['volume']].sum()"
   ]
  },
  {
   "cell_type": "code",
   "execution_count": 4,
   "metadata": {},
   "outputs": [],
   "source": [
    "sleep = pd.read_csv('fitbit/sleep.csv')"
   ]
  },
  {
   "cell_type": "code",
   "execution_count": 5,
   "metadata": {},
   "outputs": [],
   "source": [
    "sleep.duration = sleep.duration.div(1000).div(3600)"
   ]
  },
  {
   "cell_type": "code",
   "execution_count": 6,
   "metadata": {},
   "outputs": [],
   "source": [
    "sleep = sleep.groupby('dateOfSleep', as_index = False).duration.sum()"
   ]
  },
  {
   "cell_type": "code",
   "execution_count": 7,
   "metadata": {},
   "outputs": [],
   "source": [
    "sleep.dateOfSleep = pd.to_datetime(sleep.dateOfSleep) + pd.Timedelta('1 day')"
   ]
  },
  {
   "cell_type": "code",
   "execution_count": 8,
   "metadata": {},
   "outputs": [],
   "source": [
    "sleep.set_index('dateOfSleep', inplace = True)"
   ]
  },
  {
   "cell_type": "code",
   "execution_count": 9,
   "metadata": {},
   "outputs": [],
   "source": [
    "test = volume.join(sleep).query('duration > 0')"
   ]
  },
  {
   "cell_type": "code",
   "execution_count": 10,
   "metadata": {},
   "outputs": [],
   "source": [
    "test.index = pd.to_datetime(test.index)"
   ]
  },
  {
   "cell_type": "code",
   "execution_count": 11,
   "metadata": {},
   "outputs": [
    {
     "name": "stdout",
     "output_type": "stream",
     "text": [
      "This is the format of your plot grid:\n",
      "[ (1,1) x1,y1 ]  [ (1,2) x2,y2 ]\n",
      "[ (2,1) x3,y3 ]  [ (2,2) x4,y4 ]\n",
      "\n"
     ]
    }
   ],
   "source": [
    "subplots = tls.make_subplots(rows=2, cols=2, \n",
    "                              specs=[[{}, {}], \n",
    "                                     [{}, {}]\n",
    "                                    ],\n",
    "                                 subplot_titles = ['Daily', 'Weekly', 'Monthly', 'Yearly'],\n",
    "                              print_grid=True)\n",
    "\n",
    "f = go.FigureWidget(subplots)\n",
    "\n",
    "samples = ['D', 'W', 'M', 'A']\n",
    "\n",
    "rows = [1, 1, 2, 2]\n",
    "cols = [1, 2, 1, 2]\n",
    "\n",
    "for sample, row, col in zip(samples, rows, cols):\n",
    "    sampled = test.resample(sample).sum().query('volume > 0')\n",
    "    f.add_scatter(x = sampled.duration, \n",
    "                  y = sampled.volume, \n",
    "                  mode = 'markers', \n",
    "                  marker = {'opacity': .5, \n",
    "                            'color': '#A61B0F',\n",
    "                            'line': {'color': 'black', 'width': .5}\n",
    "                           },\n",
    "                  showlegend = False, \n",
    "                  row = row, \n",
    "                  col = col)\n",
    "\n",
    "f.layout.title = '<b>Less Sleep Means Less Weight Lifted on a Weekly and Monthly Basis</b><br><i>Total Sleep vs. Total Volume Lifted'\n",
    "\n",
    "f.layout.yaxis.title = 'Volume Lifted (lbs)'\n",
    "\n",
    "f.layout.xaxis3.title = 'Hours of Sleep the Previous Night'\n",
    "\n",
    "# set colors\n",
    "f.layout.plot_bgcolor = '#E5E5E5'\n",
    "f.layout.paper_bgcolor = '#E5E5E5'\n",
    "\n",
    "f.layout.images = [dict(\n",
    "        source=\"https://raw.githubusercontent.com/WilliamGreenlaw/Logos/master/signature_min.png\",\n",
    "        xref=\"paper\", yref=\"paper\",\n",
    "        x=1.05, y=1.10,\n",
    "        sizex=0.2, sizey=0.2,\n",
    "        xanchor=\"right\", yanchor=\"bottom\"\n",
    "      )]"
   ]
  },
  {
   "cell_type": "code",
   "execution_count": 12,
   "metadata": {},
   "outputs": [
    {
     "data": {
      "application/vnd.jupyter.widget-view+json": {
       "model_id": "225eda6bc38b4d6cac06d3697ed2c88f",
       "version_major": 2,
       "version_minor": 0
      },
      "text/plain": [
       "FigureWidget({\n",
       "    'data': [{'marker': {'color': '#A61B0F', 'line': {'color': 'black', 'width': 0.5}, 'opacity…"
      ]
     },
     "metadata": {},
     "output_type": "display_data"
    }
   ],
   "source": [
    "f"
   ]
  },
  {
   "cell_type": "code",
   "execution_count": 13,
   "metadata": {},
   "outputs": [],
   "source": [
    "pio.write_image(f, 'sleep.svg', width = 1500, height = 500)\n",
    "pio.write_image(f, 'sleep.png', width = 1500, height = 500)"
   ]
  }
 ],
 "metadata": {
  "kernelspec": {
   "display_name": "Python 3",
   "language": "python",
   "name": "python3"
  },
  "language_info": {
   "codemirror_mode": {
    "name": "ipython",
    "version": 3
   },
   "file_extension": ".py",
   "mimetype": "text/x-python",
   "name": "python",
   "nbconvert_exporter": "python",
   "pygments_lexer": "ipython3",
   "version": "3.7.3"
  }
 },
 "nbformat": 4,
 "nbformat_minor": 2
}

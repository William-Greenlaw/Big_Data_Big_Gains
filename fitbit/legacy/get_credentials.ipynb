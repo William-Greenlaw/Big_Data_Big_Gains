{
 "cells": [
  {
   "cell_type": "code",
   "execution_count": 3,
   "metadata": {},
   "outputs": [],
   "source": [
    "#fitbit packages \n",
    "import fitbit\n",
    "from python_fitbit import gather_keys_oauth2 as Oauth2\n",
    "\n",
    "#read_write packages\n",
    "import json"
   ]
  },
  {
   "cell_type": "code",
   "execution_count": 3,
   "metadata": {},
   "outputs": [],
   "source": [
    "def get_fitbit_credentials():\n",
    "    '''collect fitbit credentials to use Fitbit API'''\n",
    "    \n",
    "    #app id\n",
    "    client_id = '2287X8'\n",
    "    #app password\n",
    "    client_secret = '2dfcb152b035ca0bdff3d99abc6af66e'\n",
    "    \n",
    "    #connect to server for access and refresh tokens\n",
    "    server = Oauth2.OAuth2Server(client_id, client_secret)\n",
    "    server.browser_authorize()\n",
    "    access_token = str(server.fitbit.client.session.token['access_token'])\n",
    "    refresh_token = str(server.fitbit.client.session.token['refresh_token'])\n",
    "    \n",
    "    #create dictionary of credentials\n",
    "    credentials = {\n",
    "    'client_id' : client_id,\n",
    "    'client_secret' : client_secret,\n",
    "    'access_token' : access_token,\n",
    "    'refresh_token' : refresh_token\n",
    "    }\n",
    "\n",
    "    #save to json\n",
    "    with open(\"fitbit_credentials.txt\", \"w\") as outfile:\n",
    "        outfile.write(str(credentials))"
   ]
  },
  {
   "cell_type": "code",
   "execution_count": null,
   "metadata": {},
   "outputs": [
    {
     "name": "stderr",
     "output_type": "stream",
     "text": [
      "[13/May/2019:22:16:21] ENGINE Listening for SIGTERM.\n",
      "[13/May/2019:22:16:21] ENGINE Bus STARTING\n",
      "CherryPy Checker:\n",
      "The Application mounted at '' has an empty config.\n",
      "\n",
      "[13/May/2019:22:16:21] ENGINE Set handler for console events.\n",
      "[13/May/2019:22:16:21] ENGINE Started monitor thread 'Autoreloader'.\n",
      "[13/May/2019:22:16:21] ENGINE Serving on http://127.0.0.1:8080\n",
      "[13/May/2019:22:16:21] ENGINE Bus STARTED\n",
      "[13/May/2019:22:16:23] HTTP \n",
      "Traceback (most recent call last):\n",
      "  File \"C:\\Users\\William Greenlaw\\Miniconda3\\envs\\plotlylab\\lib\\site-packages\\cherrypy\\_cprequest.py\", line 628, in respond\n",
      "    self._do_respond(path_info)\n",
      "  File \"C:\\Users\\William Greenlaw\\Miniconda3\\envs\\plotlylab\\lib\\site-packages\\cherrypy\\_cprequest.py\", line 687, in _do_respond\n",
      "    response.body = self.handler()\n",
      "  File \"C:\\Users\\William Greenlaw\\Miniconda3\\envs\\plotlylab\\lib\\site-packages\\cherrypy\\lib\\encoding.py\", line 219, in __call__\n",
      "    self.body = self.oldhandler(*args, **kwargs)\n",
      "  File \"C:\\Users\\William Greenlaw\\Miniconda3\\envs\\plotlylab\\lib\\site-packages\\cherrypy\\_cpdispatch.py\", line 54, in __call__\n",
      "    return self.callable(*self.args, **self.kwargs)\n",
      "  File \"C:\\Users\\William Greenlaw\\Google Drive\\Fitness\\fitbit\\python_fitbit\\gather_keys_oauth2.py\", line 50, in index\n",
      "    self.fitbit.client.fetch_access_token(code)\n",
      "  File \"C:\\Users\\William Greenlaw\\Miniconda3\\envs\\plotlylab\\lib\\site-packages\\fitbit\\api.py\", line 146, in fetch_access_token\n",
      "    code=code)\n",
      "  File \"C:\\Users\\William Greenlaw\\Miniconda3\\envs\\plotlylab\\lib\\site-packages\\requests_oauthlib\\oauth2_session.py\", line 307, in fetch_token\n",
      "    self._client.parse_request_body_response(r.text, scope=self.scope)\n",
      "  File \"C:\\Users\\William Greenlaw\\Miniconda3\\envs\\plotlylab\\lib\\site-packages\\oauthlib\\oauth2\\rfc6749\\clients\\base.py\", line 415, in parse_request_body_response\n",
      "    self.token = parse_token_response(body, scope=scope)\n",
      "  File \"C:\\Users\\William Greenlaw\\Miniconda3\\envs\\plotlylab\\lib\\site-packages\\oauthlib\\oauth2\\rfc6749\\parameters.py\", line 425, in parse_token_response\n",
      "    validate_token_parameters(params)\n",
      "  File \"C:\\Users\\William Greenlaw\\Miniconda3\\envs\\plotlylab\\lib\\site-packages\\oauthlib\\oauth2\\rfc6749\\parameters.py\", line 432, in validate_token_parameters\n",
      "    raise_from_error(params.get('error'), params)\n",
      "  File \"C:\\Users\\William Greenlaw\\Miniconda3\\envs\\plotlylab\\lib\\site-packages\\oauthlib\\oauth2\\rfc6749\\errors.py\", line 405, in raise_from_error\n",
      "    raise cls(**kwargs)\n",
      "oauthlib.oauth2.rfc6749.errors.InvalidClientError: (invalid_client) \n",
      "[13/May/2019:22:16:23] HTTP \n",
      "Request Headers:\n",
      "  Remote-Addr: 127.0.0.1\n",
      "  HOST: 127.0.0.1:8080\n",
      "  CONNECTION: keep-alive\n",
      "  UPGRADE-INSECURE-REQUESTS: 1\n",
      "  USER-AGENT: Mozilla/5.0 (Windows NT 10.0; Win64; x64) AppleWebKit/537.36 (KHTML, like Gecko) Chrome/74.0.3729.131 Safari/537.36\n",
      "  ACCEPT: text/html,application/xhtml+xml,application/xml;q=0.9,image/webp,image/apng,*/*;q=0.8,application/signed-exchange;v=b3\n",
      "  ACCEPT-ENCODING: gzip, deflate, br\n",
      "  ACCEPT-LANGUAGE: en-US,en;q=0.9\n"
     ]
    },
    {
     "name": "stdout",
     "output_type": "stream",
     "text": [
      "127.0.0.1 - - [13/May/2019:22:16:23] \"GET /?code=c00b41ec08c40ca976bdcef1881b4cdbcdeade46&state=wgVu3dOqrYcEB3SnVo7iPrEJ9sZosd HTTP/1.1\" 500 2902 \"\" \"Mozilla/5.0 (Windows NT 10.0; Win64; x64) AppleWebKit/537.36 (KHTML, like Gecko) Chrome/74.0.3729.131 Safari/537.36\"\n"
     ]
    }
   ],
   "source": [
    "get_fitbit_credentials()"
   ]
  },
  {
   "cell_type": "code",
   "execution_count": null,
   "metadata": {},
   "outputs": [],
   "source": []
  }
 ],
 "metadata": {
  "kernelspec": {
   "display_name": "Python 3",
   "language": "python",
   "name": "python3"
  },
  "language_info": {
   "codemirror_mode": {
    "name": "ipython",
    "version": 3
   },
   "file_extension": ".py",
   "mimetype": "text/x-python",
   "name": "python",
   "nbconvert_exporter": "python",
   "pygments_lexer": "ipython3",
   "version": "3.7.3"
  }
 },
 "nbformat": 4,
 "nbformat_minor": 2
}

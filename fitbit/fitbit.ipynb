{
 "cells": [
  {
   "cell_type": "markdown",
   "metadata": {},
   "source": [
    "# Load Fitbit Data"
   ]
  },
  {
   "cell_type": "markdown",
   "metadata": {},
   "source": [
    "- Rewrite code for Fitbit bulk import online instead of through the api"
   ]
  },
  {
   "cell_type": "code",
   "execution_count": 1,
   "metadata": {},
   "outputs": [],
   "source": [
    "import numpy as np\n",
    "import pandas as pd\n",
    "\n",
    "import glob"
   ]
  },
  {
   "cell_type": "code",
   "execution_count": 5,
   "metadata": {},
   "outputs": [],
   "source": [
    "import dask\n",
    "import dask.dataframe as dd"
   ]
  },
  {
   "cell_type": "code",
   "execution_count": 2,
   "metadata": {},
   "outputs": [],
   "source": [
    "files = pd.Series(glob.glob('export/*.json'))\n",
    "keys = files.str.extract('export\\\\\\(\\w*)-\\d+', expand = False).unique()\n",
    "keys = [key for key in keys if pd.isnull(key) == False]"
   ]
  },
  {
   "cell_type": "code",
   "execution_count": 23,
   "metadata": {},
   "outputs": [
    {
     "name": "stdout",
     "output_type": "stream",
     "text": [
      "altitude\n",
      "altitude loaded\n",
      "calories\n",
      "calories loaded\n",
      "demographic_vo2_max\n",
      "demographic_vo2_max loaded\n",
      "distance\n",
      "distance loaded\n",
      "exercise\n",
      "exercise loaded\n",
      "food_logs\n",
      "food_logs loaded\n",
      "heart_rate\n",
      "heart_rate loaded\n",
      "height\n",
      "height loaded\n",
      "lightly_active_minutes\n",
      "lightly_active_minutes loaded\n",
      "moderately_active_minutes\n",
      "moderately_active_minutes loaded\n",
      "resting_heart_rate\n",
      "resting_heart_rate loaded\n",
      "sedentary_minutes\n",
      "sedentary_minutes loaded\n",
      "sleep\n",
      "sleep loaded\n",
      "steps\n",
      "steps loaded\n",
      "swim_lengths_data\n",
      "swim_lengths_data loaded\n",
      "time_in_heart_rate_zones\n",
      "time_in_heart_rate_zones loaded\n",
      "very_active_minutes\n",
      "very_active_minutes loaded\n",
      "water_logs\n",
      "water_logs loaded\n",
      "weight\n",
      "weight loaded\n"
     ]
    }
   ],
   "source": [
    "for key in keys:\n",
    "    print(key)\n",
    "    df = pd.concat([pd.read_json(file, convert_dates = False) for file in files[files.str.contains(key)]], sort = False)\n",
    "    print(key + ' loaded')\n",
    "    df.to_csv(f'{key}.csv', index = False)"
   ]
  }
 ],
 "metadata": {
  "kernelspec": {
   "display_name": "Python 3",
   "language": "python",
   "name": "python3"
  },
  "language_info": {
   "codemirror_mode": {
    "name": "ipython",
    "version": 3
   },
   "file_extension": ".py",
   "mimetype": "text/x-python",
   "name": "python",
   "nbconvert_exporter": "python",
   "pygments_lexer": "ipython3",
   "version": "3.7.3"
  }
 },
 "nbformat": 4,
 "nbformat_minor": 2
}

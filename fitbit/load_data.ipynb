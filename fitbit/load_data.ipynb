{
 "cells": [
  {
   "cell_type": "markdown",
   "metadata": {},
   "source": [
    "# Load Fitbit Data"
   ]
  },
  {
   "cell_type": "code",
   "execution_count": 1,
   "metadata": {},
   "outputs": [],
   "source": [
    "import numpy as np\n",
    "import pandas as pd\n",
    "\n",
    "from glob import glob\n",
    "from ast import literal_eval"
   ]
  },
  {
   "cell_type": "code",
   "execution_count": 3,
   "metadata": {},
   "outputs": [],
   "source": [
    "files = pd.Series(glob('exports/*.json'))\n",
    "keys = files.str.extract('exports\\\\\\(\\w*)-\\d+', expand = False).unique()\n",
    "keys = [key for key in keys if pd.isnull(key) == False]"
   ]
  },
  {
   "cell_type": "code",
   "execution_count": 4,
   "metadata": {},
   "outputs": [
    {
     "name": "stdout",
     "output_type": "stream",
     "text": [
      "altitude\n",
      "calories\n",
      "demographic_vo2_max\n",
      "distance\n",
      "exercise\n",
      "food_logs\n",
      "heart_rate\n",
      "height\n",
      "lightly_active_minutes\n",
      "moderately_active_minutes\n",
      "resting_heart_rate\n",
      "sedentary_minutes\n",
      "sleep\n",
      "steps\n",
      "swim_lengths_data\n",
      "time_in_heart_rate_zones\n",
      "very_active_minutes\n",
      "water_logs\n",
      "weight\n"
     ]
    }
   ],
   "source": [
    "for key in keys:\n",
    "    print(key)\n",
    "    df = pd.concat([pd.read_json(file, convert_dates = False) for file in files[files.str.contains(key)]], sort = False)\n",
    "    df.to_csv(f'{key}.csv', index = False)"
   ]
  }
 ],
 "metadata": {
  "kernelspec": {
   "display_name": "Python 3",
   "language": "python",
   "name": "python3"
  },
  "language_info": {
   "codemirror_mode": {
    "name": "ipython",
    "version": 3
   },
   "file_extension": ".py",
   "mimetype": "text/x-python",
   "name": "python",
   "nbconvert_exporter": "python",
   "pygments_lexer": "ipython3",
   "version": "3.7.3"
  }
 },
 "nbformat": 4,
 "nbformat_minor": 2
}

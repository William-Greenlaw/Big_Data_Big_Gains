{
 "cells": [
  {
   "cell_type": "code",
   "execution_count": 1,
   "metadata": {},
   "outputs": [
    {
     "name": "stderr",
     "output_type": "stream",
     "text": [
      "C:\\Users\\William Greenlaw\\Anaconda3\\lib\\site-packages\\ipykernel\\parentpoller.py:116: UserWarning: Parent poll failed.  If the frontend dies,\n",
      "                the kernel may be left running.  Please let us know\n",
      "                about your system (bitness, Python, etc.) at\n",
      "                ipython-dev@scipy.org\n",
      "  ipython-dev@scipy.org\"\"\")\n"
     ]
    }
   ],
   "source": [
    "#fitbit packages \n",
    "import fitbit\n",
    "from python_fitbit import gather_keys_oauth2 as Oauth2\n",
    "\n",
    "#read_write packages\n",
    "import json"
   ]
  },
  {
   "cell_type": "code",
   "execution_count": 2,
   "metadata": {},
   "outputs": [],
   "source": [
    "def get_fitbit_credentials():\n",
    "    '''collect fitbit credentials to use Fitbit API'''\n",
    "    \n",
    "    #app id\n",
    "    client_id = '2287X8'\n",
    "    #app password\n",
    "    client_secret = '2dfcb152b035ca0bdff3d99abc6af66e'\n",
    "    \n",
    "    #connect to server for access and refresh tokens\n",
    "    server = Oauth2.OAuth2Server(client_id, client_secret)\n",
    "    server.browser_authorize()\n",
    "    access_token = str(server.fitbit.client.session.token['access_token'])\n",
    "    refresh_token = str(server.fitbit.client.session.token['refresh_token'])\n",
    "    \n",
    "    #create dictionary of credentials\n",
    "    credentials = {\n",
    "    'client_id' : client_id,\n",
    "    'client_secret' : client_secret,\n",
    "    'access_token' : access_token,\n",
    "    'refresh_token' : refresh_token\n",
    "    }\n",
    "\n",
    "    #save to json\n",
    "    with open(\"fitbit/fitbit_credentials.txt\", \"w\") as outfile:\n",
    "        outfile.write(str(credentials))"
   ]
  },
  {
   "cell_type": "code",
   "execution_count": 3,
   "metadata": {},
   "outputs": [
    {
     "name": "stderr",
     "output_type": "stream",
     "text": [
      "[05/Jan/2019:00:08:11] ENGINE Listening for SIGTERM.\n",
      "[05/Jan/2019:00:08:11] ENGINE Bus STARTING\n",
      "CherryPy Checker:\n",
      "The Application mounted at '' has an empty config.\n",
      "\n",
      "[05/Jan/2019:00:08:11] ENGINE Set handler for console events.\n",
      "[05/Jan/2019:00:08:11] ENGINE Started monitor thread 'Autoreloader'.\n",
      "[05/Jan/2019:00:08:11] ENGINE Serving on http://127.0.0.1:8080\n",
      "[05/Jan/2019:00:08:11] ENGINE Bus STARTED\n"
     ]
    },
    {
     "name": "stdout",
     "output_type": "stream",
     "text": [
      "127.0.0.1 - - [05/Jan/2019:00:08:13] \"GET /?code=bd68f3ca01e4abd7572a749c0c4e798ff63a27bc&state=MIELLZBUXHIgj2tgTxJOAo26o08TJU HTTP/1.1\" 200 122 \"\" \"Mozilla/5.0 (Windows NT 10.0; Win64; x64) AppleWebKit/537.36 (KHTML, like Gecko) Chrome/71.0.3578.98 Safari/537.36\"\n"
     ]
    },
    {
     "name": "stderr",
     "output_type": "stream",
     "text": [
      "[05/Jan/2019:00:08:14] ENGINE Bus STOPPING\n",
      "[05/Jan/2019:00:08:23] ENGINE HTTP Server cherrypy._cpwsgi_server.CPWSGIServer(('127.0.0.1', 8080)) shut down\n",
      "[05/Jan/2019:00:08:23] ENGINE Stopped thread 'Autoreloader'.\n",
      "[05/Jan/2019:00:08:23] ENGINE Removed handler for console events.\n",
      "[05/Jan/2019:00:08:23] ENGINE Bus STOPPED\n",
      "[05/Jan/2019:00:08:23] ENGINE Bus EXITING\n",
      "[05/Jan/2019:00:08:23] ENGINE Waiting for child threads to terminate...\n",
      "[05/Jan/2019:00:08:23] ENGINE Bus EXITED\n",
      "[05/Jan/2019:00:08:23] ENGINE Waiting for thread Thread-19.\n"
     ]
    }
   ],
   "source": [
    "get_fitbit_credentials()"
   ]
  },
  {
   "cell_type": "code",
   "execution_count": null,
   "metadata": {},
   "outputs": [],
   "source": []
  }
 ],
 "metadata": {
  "kernelspec": {
   "display_name": "Python 3",
   "language": "python",
   "name": "python3"
  },
  "language_info": {
   "codemirror_mode": {
    "name": "ipython",
    "version": 3
   },
   "file_extension": ".py",
   "mimetype": "text/x-python",
   "name": "python",
   "nbconvert_exporter": "python",
   "pygments_lexer": "ipython3",
   "version": "3.7.0"
  }
 },
 "nbformat": 4,
 "nbformat_minor": 2
}
